{
 "cells": [
  {
   "cell_type": "code",
   "execution_count": 1,
   "metadata": {},
   "outputs": [],
   "source": [
    "import pandas as pd  # importamos módulo pandas\n",
    "import numpy as np # importamos módulo numpy\n",
    "import zipfile"
   ]
  },
  {
   "cell_type": "code",
   "execution_count": 2,
   "metadata": {},
   "outputs": [
    {
     "data": {
      "text/plain": [
       "0    110728\n",
       "1     33549\n",
       "Name: target, dtype: int64"
      ]
     },
     "execution_count": 2,
     "metadata": {},
     "output_type": "execute_result"
    }
   ],
   "source": [
    "#Se carga la base con las variables ya seleccionadas\n",
    "Data = pd.read_csv('C:/Users/user/OneDrive - Universidad de Los Andes/DEEP LEARNING Y REDES NEU/PROYECTO/data/train2.csv') \n",
    "Data.head()\n",
    "#Revisión de casos positivos y negativos\n",
    "Data['target'].value_counts()"
   ]
  },
  {
   "cell_type": "code",
   "execution_count": 3,
   "metadata": {},
   "outputs": [
    {
     "data": {
      "text/html": [
       "<div>\n",
       "<style scoped>\n",
       "    .dataframe tbody tr th:only-of-type {\n",
       "        vertical-align: middle;\n",
       "    }\n",
       "\n",
       "    .dataframe tbody tr th {\n",
       "        vertical-align: top;\n",
       "    }\n",
       "\n",
       "    .dataframe thead th {\n",
       "        text-align: right;\n",
       "    }\n",
       "</style>\n",
       "<table border=\"1\" class=\"dataframe\">\n",
       "  <thead>\n",
       "    <tr style=\"text-align: right;\">\n",
       "      <th></th>\n",
       "      <th>Unnamed: 0</th>\n",
       "      <th>ID</th>\n",
       "      <th>VAR_0001</th>\n",
       "      <th>VAR_0002</th>\n",
       "      <th>VAR_0003</th>\n",
       "      <th>VAR_0004</th>\n",
       "      <th>VAR_0005</th>\n",
       "      <th>VAR_0006</th>\n",
       "      <th>VAR_0007</th>\n",
       "      <th>VAR_0015</th>\n",
       "      <th>...</th>\n",
       "      <th>VAR_1912</th>\n",
       "      <th>VAR_1913</th>\n",
       "      <th>VAR_1918</th>\n",
       "      <th>VAR_1921</th>\n",
       "      <th>VAR_1922</th>\n",
       "      <th>VAR_1926</th>\n",
       "      <th>VAR_1927</th>\n",
       "      <th>VAR_1929</th>\n",
       "      <th>VAR_1932</th>\n",
       "      <th>VAR_1934</th>\n",
       "    </tr>\n",
       "  </thead>\n",
       "  <tbody>\n",
       "    <tr>\n",
       "      <th>0</th>\n",
       "      <td>0</td>\n",
       "      <td>2</td>\n",
       "      <td>H</td>\n",
       "      <td>224</td>\n",
       "      <td>0</td>\n",
       "      <td>4300</td>\n",
       "      <td>C</td>\n",
       "      <td>0.0</td>\n",
       "      <td>0.0</td>\n",
       "      <td>0.0</td>\n",
       "      <td>...</td>\n",
       "      <td>999999998</td>\n",
       "      <td>999999998</td>\n",
       "      <td>9998</td>\n",
       "      <td>98</td>\n",
       "      <td>999999998</td>\n",
       "      <td>98</td>\n",
       "      <td>98</td>\n",
       "      <td>999999998</td>\n",
       "      <td>9998</td>\n",
       "      <td>IAPS</td>\n",
       "    </tr>\n",
       "    <tr>\n",
       "      <th>1</th>\n",
       "      <td>1</td>\n",
       "      <td>4</td>\n",
       "      <td>H</td>\n",
       "      <td>7</td>\n",
       "      <td>53</td>\n",
       "      <td>4448</td>\n",
       "      <td>B</td>\n",
       "      <td>1.0</td>\n",
       "      <td>0.0</td>\n",
       "      <td>1.0</td>\n",
       "      <td>...</td>\n",
       "      <td>6546</td>\n",
       "      <td>6546</td>\n",
       "      <td>9996</td>\n",
       "      <td>98</td>\n",
       "      <td>999999998</td>\n",
       "      <td>98</td>\n",
       "      <td>98</td>\n",
       "      <td>999999998</td>\n",
       "      <td>9998</td>\n",
       "      <td>IAPS</td>\n",
       "    </tr>\n",
       "    <tr>\n",
       "      <th>2</th>\n",
       "      <td>2</td>\n",
       "      <td>5</td>\n",
       "      <td>H</td>\n",
       "      <td>116</td>\n",
       "      <td>3</td>\n",
       "      <td>3464</td>\n",
       "      <td>C</td>\n",
       "      <td>0.0</td>\n",
       "      <td>0.0</td>\n",
       "      <td>0.0</td>\n",
       "      <td>...</td>\n",
       "      <td>999999997</td>\n",
       "      <td>999999997</td>\n",
       "      <td>9996</td>\n",
       "      <td>98</td>\n",
       "      <td>999999998</td>\n",
       "      <td>98</td>\n",
       "      <td>98</td>\n",
       "      <td>999999998</td>\n",
       "      <td>9998</td>\n",
       "      <td>IAPS</td>\n",
       "    </tr>\n",
       "    <tr>\n",
       "      <th>3</th>\n",
       "      <td>3</td>\n",
       "      <td>7</td>\n",
       "      <td>H</td>\n",
       "      <td>240</td>\n",
       "      <td>300</td>\n",
       "      <td>3200</td>\n",
       "      <td>C</td>\n",
       "      <td>0.0</td>\n",
       "      <td>0.0</td>\n",
       "      <td>0.0</td>\n",
       "      <td>...</td>\n",
       "      <td>999999998</td>\n",
       "      <td>999999998</td>\n",
       "      <td>9998</td>\n",
       "      <td>98</td>\n",
       "      <td>999999998</td>\n",
       "      <td>98</td>\n",
       "      <td>98</td>\n",
       "      <td>999999998</td>\n",
       "      <td>9998</td>\n",
       "      <td>RCC</td>\n",
       "    </tr>\n",
       "    <tr>\n",
       "      <th>4</th>\n",
       "      <td>4</td>\n",
       "      <td>8</td>\n",
       "      <td>R</td>\n",
       "      <td>72</td>\n",
       "      <td>261</td>\n",
       "      <td>2000</td>\n",
       "      <td>N</td>\n",
       "      <td>0.0</td>\n",
       "      <td>0.0</td>\n",
       "      <td>0.0</td>\n",
       "      <td>...</td>\n",
       "      <td>999999998</td>\n",
       "      <td>999999998</td>\n",
       "      <td>9998</td>\n",
       "      <td>98</td>\n",
       "      <td>999999998</td>\n",
       "      <td>98</td>\n",
       "      <td>98</td>\n",
       "      <td>999999998</td>\n",
       "      <td>9998</td>\n",
       "      <td>BRANCH</td>\n",
       "    </tr>\n",
       "  </tbody>\n",
       "</table>\n",
       "<p>5 rows × 675 columns</p>\n",
       "</div>"
      ],
      "text/plain": [
       "   Unnamed: 0  ID VAR_0001  VAR_0002  VAR_0003  VAR_0004 VAR_0005  VAR_0006  \\\n",
       "0           0   2        H       224         0      4300        C       0.0   \n",
       "1           1   4        H         7        53      4448        B       1.0   \n",
       "2           2   5        H       116         3      3464        C       0.0   \n",
       "3           3   7        H       240       300      3200        C       0.0   \n",
       "4           4   8        R        72       261      2000        N       0.0   \n",
       "\n",
       "   VAR_0007  VAR_0015    ...      VAR_1912   VAR_1913  VAR_1918  VAR_1921  \\\n",
       "0       0.0       0.0    ...     999999998  999999998      9998        98   \n",
       "1       0.0       1.0    ...          6546       6546      9996        98   \n",
       "2       0.0       0.0    ...     999999997  999999997      9996        98   \n",
       "3       0.0       0.0    ...     999999998  999999998      9998        98   \n",
       "4       0.0       0.0    ...     999999998  999999998      9998        98   \n",
       "\n",
       "    VAR_1922  VAR_1926  VAR_1927   VAR_1929  VAR_1932  VAR_1934  \n",
       "0  999999998        98        98  999999998      9998      IAPS  \n",
       "1  999999998        98        98  999999998      9998      IAPS  \n",
       "2  999999998        98        98  999999998      9998      IAPS  \n",
       "3  999999998        98        98  999999998      9998       RCC  \n",
       "4  999999998        98        98  999999998      9998    BRANCH  \n",
       "\n",
       "[5 rows x 675 columns]"
      ]
     },
     "execution_count": 3,
     "metadata": {},
     "output_type": "execute_result"
    }
   ],
   "source": [
    "#ELIMINO LAS VARIABLES QUE ELIMINÉ EN EL TRATAMIENTO DE DATOS\n",
    "Data.isnull().sum().sort_values(ascending=False)\n",
    "y = Data['target']\n",
    "X = Data.drop(['target','VAR_0073','VAR_0075','VAR_0156', 'VAR_0157', 'VAR_0200', 'VAR_0217', 'VAR_0158', \n",
    "               'VAR_0159', 'VAR_0166', 'VAR_0167', 'VAR_0168', 'VAR_0169', 'VAR_0176', 'VAR_0204', \n",
    "               'VAR_0177', 'VAR_0354', 'VAR_0178', 'VAR_0179', 'VAR_0404', 'VAR_0467', 'VAR_0493', 'VAR_0342',\n",
    "               'VAR_0205', 'VAR_0206', 'VAR_0209', 'VAR_0208', 'VAR_0074', 'VAR_0212'], axis=1)\n",
    "X.head()"
   ]
  },
  {
   "cell_type": "code",
   "execution_count": 4,
   "metadata": {},
   "outputs": [],
   "source": [
    "#elimino categoricas\n",
    "X2 = X.select_dtypes(exclude=['object']).copy()\n",
    "X2.head()\n",
    "X2.isnull().sum().sort_values(ascending=False)\n",
    "X2.fillna(0, inplace=True)\n",
    "\n",
    "#elimino variables con poca varianza\n",
    "from sklearn.feature_selection import VarianceThreshold\n",
    "sel = VarianceThreshold(threshold=(.8 * (1 - .8)))\n",
    "X3=sel.fit_transform(X2)"
   ]
  },
  {
   "cell_type": "code",
   "execution_count": 9,
   "metadata": {},
   "outputs": [
    {
     "data": {
      "text/plain": [
       "Index(['Unnamed: 0', 'ID', 'VAR_0002', 'VAR_0003', 'VAR_0004', 'VAR_0006',\n",
       "       'VAR_0007', 'VAR_0015', 'VAR_0016', 'VAR_0017',\n",
       "       ...\n",
       "       'VAR_1908', 'VAR_1912', 'VAR_1913', 'VAR_1918', 'VAR_1921', 'VAR_1922',\n",
       "       'VAR_1926', 'VAR_1927', 'VAR_1929', 'VAR_1932'],\n",
       "      dtype='object', length=665)"
      ]
     },
     "execution_count": 9,
     "metadata": {},
     "output_type": "execute_result"
    }
   ],
   "source": [
    "cols=X2.columns\n",
    "cols"
   ]
  },
  {
   "cell_type": "code",
   "execution_count": 5,
   "metadata": {},
   "outputs": [
    {
     "data": {
      "text/plain": [
       "144277"
      ]
     },
     "execution_count": 5,
     "metadata": {},
     "output_type": "execute_result"
    }
   ],
   "source": [
    "#Escalo los datos\n",
    "from sklearn import preprocessing\n",
    "scaler = preprocessing.StandardScaler().fit(X3)\n",
    "X3=scaler.transform(X3)\n",
    "\n",
    "len(X3)"
   ]
  },
  {
   "cell_type": "code",
   "execution_count": 6,
   "metadata": {},
   "outputs": [
    {
     "data": {
      "text/plain": [
       "SVC(C=1, cache_size=200, class_weight=None, coef0=0.0,\n",
       "  decision_function_shape='ovr', degree=3, gamma='auto', kernel='rbf',\n",
       "  max_iter=-1, probability=False, random_state=None, shrinking=True,\n",
       "  tol=0.001, verbose=False)"
      ]
     },
     "execution_count": 6,
     "metadata": {},
     "output_type": "execute_result"
    }
   ],
   "source": [
    "from sklearn.svm import SVC\n",
    "#entreno el modelo SVM\n",
    "clf = SVC(C=1,kernel='rbf',probability=False)\n",
    "clf.fit(X3,y)"
   ]
  },
  {
   "cell_type": "code",
   "execution_count": 10,
   "metadata": {},
   "outputs": [
    {
     "name": "stderr",
     "output_type": "stream",
     "text": [
      "C:\\ProgramData\\Anaconda3\\lib\\site-packages\\IPython\\core\\interactiveshell.py:2785: DtypeWarning: Columns (8,9,10,11,12,43,157,167,177,196,214,225,228,229,231,235,238) have mixed types. Specify dtype option on import or set low_memory=False.\n",
      "  interactivity=interactivity, compiler=compiler, result=result)\n"
     ]
    }
   ],
   "source": [
    "#cargo la base test\n",
    "with zipfile.ZipFile('C:/Users/user/OneDrive - Universidad de Los Andes/DEEP LEARNING Y REDES NEU/PROYECTO/data/test.csv.zip', 'r') as z:\n",
    "    f = z.open('test.csv')\n",
    "    X_test = pd.io.parsers.read_table(f, index_col=False, sep=',')\n"
   ]
  },
  {
   "cell_type": "code",
   "execution_count": 14,
   "metadata": {},
   "outputs": [
    {
     "data": {
      "text/plain": [
       "(145232, 1933)"
      ]
     },
     "execution_count": 14,
     "metadata": {},
     "output_type": "execute_result"
    }
   ],
   "source": [
    "X_test.shape"
   ]
  },
  {
   "cell_type": "code",
   "execution_count": 15,
   "metadata": {},
   "outputs": [
    {
     "data": {
      "text/plain": [
       "(145232, 665)"
      ]
     },
     "execution_count": 15,
     "metadata": {},
     "output_type": "execute_result"
    }
   ],
   "source": [
    "#Selecciono las mismas variables que tomé en la base de train\n",
    "X_test= pd.DataFrame(X_test, columns=cols)\n",
    "X_test.shape"
   ]
  },
  {
   "cell_type": "code",
   "execution_count": 17,
   "metadata": {},
   "outputs": [],
   "source": [
    "#Tomamos la base de Test, la imputamos \n",
    "#transformamos la base test tal como se transformó la base train\n",
    "X_test.isnull().sum().sort_values(ascending=False)\n",
    "X_test.fillna(0, inplace=True)\n",
    "X_test1=sel.transform(X_test)"
   ]
  },
  {
   "cell_type": "code",
   "execution_count": 18,
   "metadata": {},
   "outputs": [],
   "source": [
    "#hago la prediccion\n",
    "pred=clf.predict(X_test1)"
   ]
  },
  {
   "cell_type": "code",
   "execution_count": 19,
   "metadata": {},
   "outputs": [
    {
     "data": {
      "text/plain": [
       "array([0, 0, 0, ..., 0, 0, 0], dtype=int64)"
      ]
     },
     "execution_count": 19,
     "metadata": {},
     "output_type": "execute_result"
    }
   ],
   "source": [
    "pred"
   ]
  },
  {
   "cell_type": "code",
   "execution_count": 23,
   "metadata": {},
   "outputs": [
    {
     "data": {
      "text/plain": [
       "Counter({0: 145232})"
      ]
     },
     "execution_count": 23,
     "metadata": {},
     "output_type": "execute_result"
    }
   ],
   "source": [
    "import collections, numpy\n",
    "collections.Counter(pred)"
   ]
  },
  {
   "cell_type": "code",
   "execution_count": 34,
   "metadata": {
    "collapsed": true
   },
   "outputs": [
    {
     "data": {
      "text/plain": [
       "0              1\n",
       "1              3\n",
       "2              6\n",
       "3              9\n",
       "4             10\n",
       "5             11\n",
       "6             12\n",
       "7             13\n",
       "8             15\n",
       "9             17\n",
       "10            18\n",
       "11            19\n",
       "12            27\n",
       "13            29\n",
       "14            33\n",
       "15            34\n",
       "16            39\n",
       "17            41\n",
       "18            44\n",
       "19            45\n",
       "20            47\n",
       "21            48\n",
       "22            49\n",
       "23            53\n",
       "24            56\n",
       "25            57\n",
       "26            59\n",
       "27            61\n",
       "28            64\n",
       "29            68\n",
       "           ...  \n",
       "145202    290400\n",
       "145203    290401\n",
       "145204    290403\n",
       "145205    290406\n",
       "145206    290408\n",
       "145207    290410\n",
       "145208    290411\n",
       "145209    290413\n",
       "145210    290416\n",
       "145211    290418\n",
       "145212    290419\n",
       "145213    290420\n",
       "145214    290421\n",
       "145215    290422\n",
       "145216    290423\n",
       "145217    290425\n",
       "145218    290428\n",
       "145219    290430\n",
       "145220    290433\n",
       "145221    290435\n",
       "145222    290437\n",
       "145223    290438\n",
       "145224    290442\n",
       "145225    290444\n",
       "145226    290446\n",
       "145227    290451\n",
       "145228    290455\n",
       "145229    290456\n",
       "145230    290460\n",
       "145231    290462\n",
       "Name: ID, Length: 145232, dtype: int64"
      ]
     },
     "execution_count": 34,
     "metadata": {},
     "output_type": "execute_result"
    }
   ],
   "source": [
    "#Cargo los indices\n",
    "indices = pd.read_csv('C:/Users/user/OneDrive - Universidad de Los Andes/DEEP LEARNING Y REDES NEU/PROYECTO/data/ids.csv', sep=';') \n",
    "indices.ID"
   ]
  },
  {
   "cell_type": "code",
   "execution_count": 35,
   "metadata": {},
   "outputs": [],
   "source": [
    "#Guardo el archivo para cargue en KAGGLE\n",
    "predload = pd.DataFrame(index=indices.ID,columns=['target'],data=pred)\n",
    "predload.to_csv('C:/Users/user/OneDrive - Universidad de Los Andes/DEEP LEARNING Y REDES NEU/PROYECTO/data/pred1.csv',index_label='ID',float_format='%1.3f')"
   ]
  },
  {
   "cell_type": "markdown",
   "metadata": {},
   "source": [
    "# RESULTADO DEL CARGUE EN KAGGLE"
   ]
  },
  {
   "cell_type": "code",
   "execution_count": 49,
   "metadata": {
    "scrolled": true
   },
   "outputs": [
    {
     "data": {
      "image/png": "[encoded data removed]",
      "text/plain": [
       "<IPython.core.display.Image object>"
      ]
     },
     "execution_count": 49,
     "metadata": {},
     "output_type": "execute_result"
    }
   ],
   "source": [
    "from IPython.display import Image\n",
    "Image(\"reskaggle2.png\")"
   ]
  },
  {
   "cell_type": "code",
   "execution_count": null,
   "metadata": {},
   "outputs": [],
   "source": []
  }
 ],
 "metadata": {
  "kernelspec": {
   "display_name": "Python 3",
   "language": "python",
   "name": "python3"
  },
  "language_info": {
   "codemirror_mode": {
    "name": "ipython",
    "version": 3
   },
   "file_extension": ".py",
   "mimetype": "text/x-python",
   "name": "python",
   "nbconvert_exporter": "python",
   "pygments_lexer": "ipython3",
   "version": "3.6.5"
  }
 },
 "nbformat": 4,
 "nbformat_minor": 2
}
