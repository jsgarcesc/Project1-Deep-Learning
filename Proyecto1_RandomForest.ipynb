{
 "cells": [
  {
   "cell_type": "markdown",
   "metadata": {},
   "source": [
    "# PROYECTO 1: DEEP LEARNING.\n",
    "\n",
    "\n",
    "## MODELO  RANDOM FOREST\n",
    "\n",
    "**Integrante 1:** Ángela Patricia Ordoñez Castro....................................................**Código:** 201628709    \n",
    "**Integrante 2:** Ricardo Medina Aponte.................................................................**Código:** 200520707  \n",
    "**Integrante 3:** Juan Sebastián Garcés Carranza.................................................**Código:** 201628949    \n",
    "**Integrante 4:** Andrea Carolina Parra López........................................................**Código:** 201727740 \n"
   ]
  },
  {
   "cell_type": "markdown",
   "metadata": {},
   "source": [
    "## Descripción del problema seleccionado\n",
    "\n",
    "**SPRINGLEAF** ahora conocida como  **ONEMAIN FINANCIAL** es una empresa estadounidense que ofrece servicios financieros,  enfocados principalmente en prestamos personales, cuenta con cerca de 10 millones de clientes y alrededor de 10.000 empleados.  \n",
    "\n",
    "En octubre de 2015 SPRINGLEAF ofrece una competencia en la plataforma Kaggle con un premio de 100.000 dólares el cual esta enfocado en la mejora de una estategia de marketing en la cual se ofrecen prestamos a través de envio de correos directos a sus clientes. \n",
    "\n",
    "El objetivo de la competencia consiste en a partir de una gran base de datos anonimizada, se desea predecir cuales de sus clientes responderan a una oferta hecha por correo directo, debido a la extensión de la base, el reto se enfoca en depurar y seleccionar un conjunto de variables con gran importancia que permitan a través de métodos de clasificación generar las mejores predicciones.\n",
    "\n",
    "Información del problema: (https://www.kaggle.com/c/springleaf-marketing-response)"
   ]
  },
  {
   "cell_type": "markdown",
   "metadata": {},
   "source": [
    "## Selección del modelo\n",
    "Luego de realizar el proceso de limpieza de la base en el **Notebook 1**  y teniendo en cuenta la naturaleza del problema (clasificación), el cual incluye un gran volumen de variables, se propone el uso de un modelo **Random Forest**.\n",
    "\n",
    "Las razones para considerar este modelo son las siguientes:\n",
    "\n",
    "- Tiene mejoras sustanciales con respecto al modelo Bagging.\n",
    "- Es considerado uno de los algoritmos más poderosos de clasificación.\n",
    "- Es eficientemente cuando se usan bases de datos grandes.\n",
    "- Se puede utilizar el conjunto de variables completo.\n",
    "- Permite identificar cuales son las variables importantes en la clasificación.\n",
    "\n",
    "Luego de seleccionado el modelo se desarrolla el siguiente código.\n"
   ]
  },
  {
   "cell_type": "markdown",
   "metadata": {},
   "source": [
    "### Importar librerías\n",
    "Inicialmente se importan las librerías necesarias para correr el código"
   ]
  },
  {
   "cell_type": "code",
   "execution_count": 1,
   "metadata": {},
   "outputs": [],
   "source": [
    "import pandas as pd  # importamos módulo pandas\n",
    "import numpy as np # importamos módulo numpy\n",
    "from sklearn.ensemble import RandomForestClassifier\n"
   ]
  },
  {
   "cell_type": "markdown",
   "metadata": {},
   "source": [
    "Luego de la limpieza y exploración de los datos se carga la base depurada, la cual no cuenta valores perdidos ni variables correlacionadas"
   ]
  },
  {
   "cell_type": "code",
   "execution_count": 2,
   "metadata": {},
   "outputs": [
    {
     "data": {
      "text/html": [
       "<div>\n",
       "<style scoped>\n",
       "    .dataframe tbody tr th:only-of-type {\n",
       "        vertical-align: middle;\n",
       "    }\n",
       "\n",
       "    .dataframe tbody tr th {\n",
       "        vertical-align: top;\n",
       "    }\n",
       "\n",
       "    .dataframe thead th {\n",
       "        text-align: right;\n",
       "    }\n",
       "</style>\n",
       "<table border=\"1\" class=\"dataframe\">\n",
       "  <thead>\n",
       "    <tr style=\"text-align: right;\">\n",
       "      <th></th>\n",
       "      <th>Unnamed: 0</th>\n",
       "      <th>ID</th>\n",
       "      <th>VAR_0001</th>\n",
       "      <th>VAR_0002</th>\n",
       "      <th>VAR_0003</th>\n",
       "      <th>VAR_0004</th>\n",
       "      <th>VAR_0005</th>\n",
       "      <th>VAR_0006</th>\n",
       "      <th>VAR_0007</th>\n",
       "      <th>VAR_0015</th>\n",
       "      <th>...</th>\n",
       "      <th>VAR_1869</th>\n",
       "      <th>VAR_1912</th>\n",
       "      <th>VAR_1918</th>\n",
       "      <th>VAR_1921</th>\n",
       "      <th>VAR_1922</th>\n",
       "      <th>VAR_1926</th>\n",
       "      <th>VAR_1929</th>\n",
       "      <th>VAR_1932</th>\n",
       "      <th>VAR_1934</th>\n",
       "      <th>target</th>\n",
       "    </tr>\n",
       "  </thead>\n",
       "  <tbody>\n",
       "    <tr>\n",
       "      <th>0</th>\n",
       "      <td>0</td>\n",
       "      <td>2</td>\n",
       "      <td>H</td>\n",
       "      <td>224</td>\n",
       "      <td>0</td>\n",
       "      <td>4300</td>\n",
       "      <td>C</td>\n",
       "      <td>0.0</td>\n",
       "      <td>0.0</td>\n",
       "      <td>0.0</td>\n",
       "      <td>...</td>\n",
       "      <td>999999998</td>\n",
       "      <td>999999998</td>\n",
       "      <td>9998</td>\n",
       "      <td>98</td>\n",
       "      <td>999999998</td>\n",
       "      <td>98</td>\n",
       "      <td>999999998</td>\n",
       "      <td>9998</td>\n",
       "      <td>IAPS</td>\n",
       "      <td>0</td>\n",
       "    </tr>\n",
       "    <tr>\n",
       "      <th>1</th>\n",
       "      <td>1</td>\n",
       "      <td>4</td>\n",
       "      <td>H</td>\n",
       "      <td>7</td>\n",
       "      <td>53</td>\n",
       "      <td>4448</td>\n",
       "      <td>B</td>\n",
       "      <td>1.0</td>\n",
       "      <td>0.0</td>\n",
       "      <td>1.0</td>\n",
       "      <td>...</td>\n",
       "      <td>999999998</td>\n",
       "      <td>6546</td>\n",
       "      <td>9996</td>\n",
       "      <td>98</td>\n",
       "      <td>999999998</td>\n",
       "      <td>98</td>\n",
       "      <td>999999998</td>\n",
       "      <td>9998</td>\n",
       "      <td>IAPS</td>\n",
       "      <td>0</td>\n",
       "    </tr>\n",
       "    <tr>\n",
       "      <th>2</th>\n",
       "      <td>2</td>\n",
       "      <td>5</td>\n",
       "      <td>H</td>\n",
       "      <td>116</td>\n",
       "      <td>3</td>\n",
       "      <td>3464</td>\n",
       "      <td>C</td>\n",
       "      <td>0.0</td>\n",
       "      <td>0.0</td>\n",
       "      <td>0.0</td>\n",
       "      <td>...</td>\n",
       "      <td>999999998</td>\n",
       "      <td>999999997</td>\n",
       "      <td>9996</td>\n",
       "      <td>98</td>\n",
       "      <td>999999998</td>\n",
       "      <td>98</td>\n",
       "      <td>999999998</td>\n",
       "      <td>9998</td>\n",
       "      <td>IAPS</td>\n",
       "      <td>0</td>\n",
       "    </tr>\n",
       "    <tr>\n",
       "      <th>3</th>\n",
       "      <td>3</td>\n",
       "      <td>7</td>\n",
       "      <td>H</td>\n",
       "      <td>240</td>\n",
       "      <td>300</td>\n",
       "      <td>3200</td>\n",
       "      <td>C</td>\n",
       "      <td>0.0</td>\n",
       "      <td>0.0</td>\n",
       "      <td>0.0</td>\n",
       "      <td>...</td>\n",
       "      <td>999999998</td>\n",
       "      <td>999999998</td>\n",
       "      <td>9998</td>\n",
       "      <td>98</td>\n",
       "      <td>999999998</td>\n",
       "      <td>98</td>\n",
       "      <td>999999998</td>\n",
       "      <td>9998</td>\n",
       "      <td>RCC</td>\n",
       "      <td>0</td>\n",
       "    </tr>\n",
       "    <tr>\n",
       "      <th>4</th>\n",
       "      <td>4</td>\n",
       "      <td>8</td>\n",
       "      <td>R</td>\n",
       "      <td>72</td>\n",
       "      <td>261</td>\n",
       "      <td>2000</td>\n",
       "      <td>N</td>\n",
       "      <td>0.0</td>\n",
       "      <td>0.0</td>\n",
       "      <td>0.0</td>\n",
       "      <td>...</td>\n",
       "      <td>999999998</td>\n",
       "      <td>999999998</td>\n",
       "      <td>9998</td>\n",
       "      <td>98</td>\n",
       "      <td>999999998</td>\n",
       "      <td>98</td>\n",
       "      <td>999999998</td>\n",
       "      <td>9998</td>\n",
       "      <td>BRANCH</td>\n",
       "      <td>1</td>\n",
       "    </tr>\n",
       "  </tbody>\n",
       "</table>\n",
       "<p>5 rows × 435 columns</p>\n",
       "</div>"
      ],
      "text/plain": [
       "   Unnamed: 0  ID VAR_0001  VAR_0002  VAR_0003  VAR_0004 VAR_0005  VAR_0006  \\\n",
       "0           0   2        H       224         0      4300        C       0.0   \n",
       "1           1   4        H         7        53      4448        B       1.0   \n",
       "2           2   5        H       116         3      3464        C       0.0   \n",
       "3           3   7        H       240       300      3200        C       0.0   \n",
       "4           4   8        R        72       261      2000        N       0.0   \n",
       "\n",
       "   VAR_0007  VAR_0015   ...     VAR_1869   VAR_1912  VAR_1918  VAR_1921  \\\n",
       "0       0.0       0.0   ...    999999998  999999998      9998        98   \n",
       "1       0.0       1.0   ...    999999998       6546      9996        98   \n",
       "2       0.0       0.0   ...    999999998  999999997      9996        98   \n",
       "3       0.0       0.0   ...    999999998  999999998      9998        98   \n",
       "4       0.0       0.0   ...    999999998  999999998      9998        98   \n",
       "\n",
       "    VAR_1922  VAR_1926   VAR_1929  VAR_1932  VAR_1934  target  \n",
       "0  999999998        98  999999998      9998      IAPS       0  \n",
       "1  999999998        98  999999998      9998      IAPS       0  \n",
       "2  999999998        98  999999998      9998      IAPS       0  \n",
       "3  999999998        98  999999998      9998       RCC       0  \n",
       "4  999999998        98  999999998      9998    BRANCH       1  \n",
       "\n",
       "[5 rows x 435 columns]"
      ]
     },
     "execution_count": 2,
     "metadata": {},
     "output_type": "execute_result"
    }
   ],
   "source": [
    "#Cargue de la base.\n",
    "Data = pd.read_csv('train4.csv') \n",
    "Data.head()"
   ]
  },
  {
   "cell_type": "code",
   "execution_count": 3,
   "metadata": {},
   "outputs": [
    {
     "data": {
      "text/plain": [
       "(144277, 435)"
      ]
     },
     "execution_count": 3,
     "metadata": {},
     "output_type": "execute_result"
    }
   ],
   "source": [
    "Data.shape"
   ]
  },
  {
   "cell_type": "markdown",
   "metadata": {},
   "source": [
    "La base inicial cuenta con 144.277 registros y 435 variables, ahora se realiza una tabla de salida de la variable target para observar desbalanceos en ella"
   ]
  },
  {
   "cell_type": "code",
   "execution_count": 4,
   "metadata": {},
   "outputs": [
    {
     "data": {
      "text/plain": [
       "0    110728\n",
       "1     33549\n",
       "Name: target, dtype: int64"
      ]
     },
     "execution_count": 4,
     "metadata": {},
     "output_type": "execute_result"
    }
   ],
   "source": [
    "#Revisión de casos positivos y negativos para observar desbalanceo\n",
    "Data['target'].value_counts()"
   ]
  },
  {
   "cell_type": "markdown",
   "metadata": {},
   "source": [
    "Al observar el resultado anterior se evidencia un desbalanceo, puesto que, tan solo el 23% de los clientes responden a una oferta por correo directo. \n",
    "\n",
    "El siguiente código permite generar dos vectores uno con la variable a predecir y otro con el conjunto de variables predictoras."
   ]
  },
  {
   "cell_type": "code",
   "execution_count": 108,
   "metadata": {},
   "outputs": [
    {
     "data": {
      "text/html": [
       "<div>\n",
       "<style scoped>\n",
       "    .dataframe tbody tr th:only-of-type {\n",
       "        vertical-align: middle;\n",
       "    }\n",
       "\n",
       "    .dataframe tbody tr th {\n",
       "        vertical-align: top;\n",
       "    }\n",
       "\n",
       "    .dataframe thead th {\n",
       "        text-align: right;\n",
       "    }\n",
       "</style>\n",
       "<table border=\"1\" class=\"dataframe\">\n",
       "  <thead>\n",
       "    <tr style=\"text-align: right;\">\n",
       "      <th></th>\n",
       "      <th>Unnamed: 0</th>\n",
       "      <th>ID</th>\n",
       "      <th>VAR_0001</th>\n",
       "      <th>VAR_0002</th>\n",
       "      <th>VAR_0003</th>\n",
       "      <th>VAR_0004</th>\n",
       "      <th>VAR_0005</th>\n",
       "      <th>VAR_0006</th>\n",
       "      <th>VAR_0007</th>\n",
       "      <th>VAR_0015</th>\n",
       "      <th>...</th>\n",
       "      <th>VAR_1868</th>\n",
       "      <th>VAR_1869</th>\n",
       "      <th>VAR_1912</th>\n",
       "      <th>VAR_1918</th>\n",
       "      <th>VAR_1921</th>\n",
       "      <th>VAR_1922</th>\n",
       "      <th>VAR_1926</th>\n",
       "      <th>VAR_1929</th>\n",
       "      <th>VAR_1932</th>\n",
       "      <th>VAR_1934</th>\n",
       "    </tr>\n",
       "  </thead>\n",
       "  <tbody>\n",
       "    <tr>\n",
       "      <th>0</th>\n",
       "      <td>0</td>\n",
       "      <td>2</td>\n",
       "      <td>H</td>\n",
       "      <td>224</td>\n",
       "      <td>0</td>\n",
       "      <td>4300</td>\n",
       "      <td>C</td>\n",
       "      <td>0.0</td>\n",
       "      <td>0.0</td>\n",
       "      <td>0.0</td>\n",
       "      <td>...</td>\n",
       "      <td>998</td>\n",
       "      <td>999999998</td>\n",
       "      <td>999999998</td>\n",
       "      <td>9998</td>\n",
       "      <td>98</td>\n",
       "      <td>999999998</td>\n",
       "      <td>98</td>\n",
       "      <td>999999998</td>\n",
       "      <td>9998</td>\n",
       "      <td>IAPS</td>\n",
       "    </tr>\n",
       "    <tr>\n",
       "      <th>1</th>\n",
       "      <td>1</td>\n",
       "      <td>4</td>\n",
       "      <td>H</td>\n",
       "      <td>7</td>\n",
       "      <td>53</td>\n",
       "      <td>4448</td>\n",
       "      <td>B</td>\n",
       "      <td>1.0</td>\n",
       "      <td>0.0</td>\n",
       "      <td>1.0</td>\n",
       "      <td>...</td>\n",
       "      <td>998</td>\n",
       "      <td>999999998</td>\n",
       "      <td>6546</td>\n",
       "      <td>9996</td>\n",
       "      <td>98</td>\n",
       "      <td>999999998</td>\n",
       "      <td>98</td>\n",
       "      <td>999999998</td>\n",
       "      <td>9998</td>\n",
       "      <td>IAPS</td>\n",
       "    </tr>\n",
       "    <tr>\n",
       "      <th>2</th>\n",
       "      <td>2</td>\n",
       "      <td>5</td>\n",
       "      <td>H</td>\n",
       "      <td>116</td>\n",
       "      <td>3</td>\n",
       "      <td>3464</td>\n",
       "      <td>C</td>\n",
       "      <td>0.0</td>\n",
       "      <td>0.0</td>\n",
       "      <td>0.0</td>\n",
       "      <td>...</td>\n",
       "      <td>998</td>\n",
       "      <td>999999998</td>\n",
       "      <td>999999997</td>\n",
       "      <td>9996</td>\n",
       "      <td>98</td>\n",
       "      <td>999999998</td>\n",
       "      <td>98</td>\n",
       "      <td>999999998</td>\n",
       "      <td>9998</td>\n",
       "      <td>IAPS</td>\n",
       "    </tr>\n",
       "    <tr>\n",
       "      <th>3</th>\n",
       "      <td>3</td>\n",
       "      <td>7</td>\n",
       "      <td>H</td>\n",
       "      <td>240</td>\n",
       "      <td>300</td>\n",
       "      <td>3200</td>\n",
       "      <td>C</td>\n",
       "      <td>0.0</td>\n",
       "      <td>0.0</td>\n",
       "      <td>0.0</td>\n",
       "      <td>...</td>\n",
       "      <td>998</td>\n",
       "      <td>999999998</td>\n",
       "      <td>999999998</td>\n",
       "      <td>9998</td>\n",
       "      <td>98</td>\n",
       "      <td>999999998</td>\n",
       "      <td>98</td>\n",
       "      <td>999999998</td>\n",
       "      <td>9998</td>\n",
       "      <td>RCC</td>\n",
       "    </tr>\n",
       "    <tr>\n",
       "      <th>4</th>\n",
       "      <td>4</td>\n",
       "      <td>8</td>\n",
       "      <td>R</td>\n",
       "      <td>72</td>\n",
       "      <td>261</td>\n",
       "      <td>2000</td>\n",
       "      <td>N</td>\n",
       "      <td>0.0</td>\n",
       "      <td>0.0</td>\n",
       "      <td>0.0</td>\n",
       "      <td>...</td>\n",
       "      <td>998</td>\n",
       "      <td>999999998</td>\n",
       "      <td>999999998</td>\n",
       "      <td>9998</td>\n",
       "      <td>98</td>\n",
       "      <td>999999998</td>\n",
       "      <td>98</td>\n",
       "      <td>999999998</td>\n",
       "      <td>9998</td>\n",
       "      <td>BRANCH</td>\n",
       "    </tr>\n",
       "  </tbody>\n",
       "</table>\n",
       "<p>5 rows × 434 columns</p>\n",
       "</div>"
      ],
      "text/plain": [
       "   Unnamed: 0  ID VAR_0001  VAR_0002  VAR_0003  VAR_0004 VAR_0005  VAR_0006  \\\n",
       "0           0   2        H       224         0      4300        C       0.0   \n",
       "1           1   4        H         7        53      4448        B       1.0   \n",
       "2           2   5        H       116         3      3464        C       0.0   \n",
       "3           3   7        H       240       300      3200        C       0.0   \n",
       "4           4   8        R        72       261      2000        N       0.0   \n",
       "\n",
       "   VAR_0007  VAR_0015    ...     VAR_1868   VAR_1869   VAR_1912  VAR_1918  \\\n",
       "0       0.0       0.0    ...          998  999999998  999999998      9998   \n",
       "1       0.0       1.0    ...          998  999999998       6546      9996   \n",
       "2       0.0       0.0    ...          998  999999998  999999997      9996   \n",
       "3       0.0       0.0    ...          998  999999998  999999998      9998   \n",
       "4       0.0       0.0    ...          998  999999998  999999998      9998   \n",
       "\n",
       "   VAR_1921   VAR_1922  VAR_1926   VAR_1929  VAR_1932  VAR_1934  \n",
       "0        98  999999998        98  999999998      9998      IAPS  \n",
       "1        98  999999998        98  999999998      9998      IAPS  \n",
       "2        98  999999998        98  999999998      9998      IAPS  \n",
       "3        98  999999998        98  999999998      9998       RCC  \n",
       "4        98  999999998        98  999999998      9998    BRANCH  \n",
       "\n",
       "[5 rows x 434 columns]"
      ]
     },
     "execution_count": 108,
     "metadata": {},
     "output_type": "execute_result"
    }
   ],
   "source": [
    "y = Data['target']\n",
    "X = Data.drop(['target'], axis=1)\n",
    "X.head()"
   ]
  },
  {
   "cell_type": "markdown",
   "metadata": {},
   "source": [
    "En la base anterior se observan variables categóricas las cuales se convertiran en dummies."
   ]
  },
  {
   "cell_type": "code",
   "execution_count": 109,
   "metadata": {},
   "outputs": [
    {
     "data": {
      "text/html": [
       "<div>\n",
       "<style scoped>\n",
       "    .dataframe tbody tr th:only-of-type {\n",
       "        vertical-align: middle;\n",
       "    }\n",
       "\n",
       "    .dataframe tbody tr th {\n",
       "        vertical-align: top;\n",
       "    }\n",
       "\n",
       "    .dataframe thead th {\n",
       "        text-align: right;\n",
       "    }\n",
       "</style>\n",
       "<table border=\"1\" class=\"dataframe\">\n",
       "  <thead>\n",
       "    <tr style=\"text-align: right;\">\n",
       "      <th></th>\n",
       "      <th>VAR_0001</th>\n",
       "      <th>VAR_0005</th>\n",
       "      <th>VAR_0237</th>\n",
       "      <th>VAR_0283</th>\n",
       "      <th>VAR_0305</th>\n",
       "      <th>VAR_0325</th>\n",
       "      <th>VAR_0342</th>\n",
       "      <th>VAR_0352</th>\n",
       "      <th>VAR_0353</th>\n",
       "      <th>VAR_0354</th>\n",
       "      <th>VAR_1934</th>\n",
       "    </tr>\n",
       "  </thead>\n",
       "  <tbody>\n",
       "    <tr>\n",
       "      <th>0</th>\n",
       "      <td>H</td>\n",
       "      <td>C</td>\n",
       "      <td>FL</td>\n",
       "      <td>S</td>\n",
       "      <td>S</td>\n",
       "      <td>S</td>\n",
       "      <td>CF</td>\n",
       "      <td>O</td>\n",
       "      <td>U</td>\n",
       "      <td>O</td>\n",
       "      <td>IAPS</td>\n",
       "    </tr>\n",
       "    <tr>\n",
       "      <th>1</th>\n",
       "      <td>H</td>\n",
       "      <td>B</td>\n",
       "      <td>CA</td>\n",
       "      <td>S</td>\n",
       "      <td>S</td>\n",
       "      <td>H</td>\n",
       "      <td>EC</td>\n",
       "      <td>O</td>\n",
       "      <td>R</td>\n",
       "      <td>R</td>\n",
       "      <td>IAPS</td>\n",
       "    </tr>\n",
       "    <tr>\n",
       "      <th>2</th>\n",
       "      <td>H</td>\n",
       "      <td>C</td>\n",
       "      <td>WV</td>\n",
       "      <td>S</td>\n",
       "      <td>P</td>\n",
       "      <td>R</td>\n",
       "      <td>UU</td>\n",
       "      <td>R</td>\n",
       "      <td>R</td>\n",
       "      <td>U</td>\n",
       "      <td>IAPS</td>\n",
       "    </tr>\n",
       "    <tr>\n",
       "      <th>3</th>\n",
       "      <td>H</td>\n",
       "      <td>C</td>\n",
       "      <td>TX</td>\n",
       "      <td>S</td>\n",
       "      <td>P</td>\n",
       "      <td>H</td>\n",
       "      <td>FF</td>\n",
       "      <td>R</td>\n",
       "      <td>R</td>\n",
       "      <td>U</td>\n",
       "      <td>RCC</td>\n",
       "    </tr>\n",
       "    <tr>\n",
       "      <th>4</th>\n",
       "      <td>R</td>\n",
       "      <td>N</td>\n",
       "      <td>IL</td>\n",
       "      <td>S</td>\n",
       "      <td>P</td>\n",
       "      <td>S</td>\n",
       "      <td>FF</td>\n",
       "      <td>R</td>\n",
       "      <td>U</td>\n",
       "      <td>O</td>\n",
       "      <td>BRANCH</td>\n",
       "    </tr>\n",
       "  </tbody>\n",
       "</table>\n",
       "</div>"
      ],
      "text/plain": [
       "  VAR_0001 VAR_0005 VAR_0237 VAR_0283 VAR_0305 VAR_0325 VAR_0342 VAR_0352  \\\n",
       "0        H        C       FL        S        S        S       CF        O   \n",
       "1        H        B       CA        S        S        H       EC        O   \n",
       "2        H        C       WV        S        P        R       UU        R   \n",
       "3        H        C       TX        S        P        H       FF        R   \n",
       "4        R        N       IL        S        P        S       FF        R   \n",
       "\n",
       "  VAR_0353 VAR_0354 VAR_1934  \n",
       "0        U        O     IAPS  \n",
       "1        R        R     IAPS  \n",
       "2        R        U     IAPS  \n",
       "3        R        U      RCC  \n",
       "4        U        O   BRANCH  "
      ]
     },
     "execution_count": 109,
     "metadata": {},
     "output_type": "execute_result"
    }
   ],
   "source": [
    "#Base de datos con variables categóricas existentes.\n",
    "X.dtypes\n",
    "obj_X = X.select_dtypes(include=['object']).copy()\n",
    "obj_X.head()\n"
   ]
  },
  {
   "cell_type": "code",
   "execution_count": 110,
   "metadata": {},
   "outputs": [
    {
     "data": {
      "text/html": [
       "<div>\n",
       "<style scoped>\n",
       "    .dataframe tbody tr th:only-of-type {\n",
       "        vertical-align: middle;\n",
       "    }\n",
       "\n",
       "    .dataframe tbody tr th {\n",
       "        vertical-align: top;\n",
       "    }\n",
       "\n",
       "    .dataframe thead th {\n",
       "        text-align: right;\n",
       "    }\n",
       "</style>\n",
       "<table border=\"1\" class=\"dataframe\">\n",
       "  <thead>\n",
       "    <tr style=\"text-align: right;\">\n",
       "      <th></th>\n",
       "      <th>VAR_0001_H</th>\n",
       "      <th>VAR_0001_Q</th>\n",
       "      <th>VAR_0001_R</th>\n",
       "      <th>VAR_0005_B</th>\n",
       "      <th>VAR_0005_C</th>\n",
       "      <th>VAR_0005_N</th>\n",
       "      <th>VAR_0005_S</th>\n",
       "      <th>VAR_0237_AK</th>\n",
       "      <th>VAR_0237_AL</th>\n",
       "      <th>VAR_0237_AR</th>\n",
       "      <th>...</th>\n",
       "      <th>VAR_0353_R</th>\n",
       "      <th>VAR_0353_U</th>\n",
       "      <th>VAR_0354_O</th>\n",
       "      <th>VAR_0354_R</th>\n",
       "      <th>VAR_0354_U</th>\n",
       "      <th>VAR_1934_BRANCH</th>\n",
       "      <th>VAR_1934_CSC</th>\n",
       "      <th>VAR_1934_IAPS</th>\n",
       "      <th>VAR_1934_MOBILE</th>\n",
       "      <th>VAR_1934_RCC</th>\n",
       "    </tr>\n",
       "  </thead>\n",
       "  <tbody>\n",
       "    <tr>\n",
       "      <th>0</th>\n",
       "      <td>1</td>\n",
       "      <td>0</td>\n",
       "      <td>0</td>\n",
       "      <td>0</td>\n",
       "      <td>1</td>\n",
       "      <td>0</td>\n",
       "      <td>0</td>\n",
       "      <td>0</td>\n",
       "      <td>0</td>\n",
       "      <td>0</td>\n",
       "      <td>...</td>\n",
       "      <td>0</td>\n",
       "      <td>1</td>\n",
       "      <td>1</td>\n",
       "      <td>0</td>\n",
       "      <td>0</td>\n",
       "      <td>0</td>\n",
       "      <td>0</td>\n",
       "      <td>1</td>\n",
       "      <td>0</td>\n",
       "      <td>0</td>\n",
       "    </tr>\n",
       "    <tr>\n",
       "      <th>1</th>\n",
       "      <td>1</td>\n",
       "      <td>0</td>\n",
       "      <td>0</td>\n",
       "      <td>1</td>\n",
       "      <td>0</td>\n",
       "      <td>0</td>\n",
       "      <td>0</td>\n",
       "      <td>0</td>\n",
       "      <td>0</td>\n",
       "      <td>0</td>\n",
       "      <td>...</td>\n",
       "      <td>1</td>\n",
       "      <td>0</td>\n",
       "      <td>0</td>\n",
       "      <td>1</td>\n",
       "      <td>0</td>\n",
       "      <td>0</td>\n",
       "      <td>0</td>\n",
       "      <td>1</td>\n",
       "      <td>0</td>\n",
       "      <td>0</td>\n",
       "    </tr>\n",
       "    <tr>\n",
       "      <th>2</th>\n",
       "      <td>1</td>\n",
       "      <td>0</td>\n",
       "      <td>0</td>\n",
       "      <td>0</td>\n",
       "      <td>1</td>\n",
       "      <td>0</td>\n",
       "      <td>0</td>\n",
       "      <td>0</td>\n",
       "      <td>0</td>\n",
       "      <td>0</td>\n",
       "      <td>...</td>\n",
       "      <td>1</td>\n",
       "      <td>0</td>\n",
       "      <td>0</td>\n",
       "      <td>0</td>\n",
       "      <td>1</td>\n",
       "      <td>0</td>\n",
       "      <td>0</td>\n",
       "      <td>1</td>\n",
       "      <td>0</td>\n",
       "      <td>0</td>\n",
       "    </tr>\n",
       "    <tr>\n",
       "      <th>3</th>\n",
       "      <td>1</td>\n",
       "      <td>0</td>\n",
       "      <td>0</td>\n",
       "      <td>0</td>\n",
       "      <td>1</td>\n",
       "      <td>0</td>\n",
       "      <td>0</td>\n",
       "      <td>0</td>\n",
       "      <td>0</td>\n",
       "      <td>0</td>\n",
       "      <td>...</td>\n",
       "      <td>1</td>\n",
       "      <td>0</td>\n",
       "      <td>0</td>\n",
       "      <td>0</td>\n",
       "      <td>1</td>\n",
       "      <td>0</td>\n",
       "      <td>0</td>\n",
       "      <td>0</td>\n",
       "      <td>0</td>\n",
       "      <td>1</td>\n",
       "    </tr>\n",
       "    <tr>\n",
       "      <th>4</th>\n",
       "      <td>0</td>\n",
       "      <td>0</td>\n",
       "      <td>1</td>\n",
       "      <td>0</td>\n",
       "      <td>0</td>\n",
       "      <td>1</td>\n",
       "      <td>0</td>\n",
       "      <td>0</td>\n",
       "      <td>0</td>\n",
       "      <td>0</td>\n",
       "      <td>...</td>\n",
       "      <td>0</td>\n",
       "      <td>1</td>\n",
       "      <td>1</td>\n",
       "      <td>0</td>\n",
       "      <td>0</td>\n",
       "      <td>1</td>\n",
       "      <td>0</td>\n",
       "      <td>0</td>\n",
       "      <td>0</td>\n",
       "      <td>0</td>\n",
       "    </tr>\n",
       "  </tbody>\n",
       "</table>\n",
       "<p>5 rows × 136 columns</p>\n",
       "</div>"
      ],
      "text/plain": [
       "   VAR_0001_H  VAR_0001_Q  VAR_0001_R  VAR_0005_B  VAR_0005_C  VAR_0005_N  \\\n",
       "0           1           0           0           0           1           0   \n",
       "1           1           0           0           1           0           0   \n",
       "2           1           0           0           0           1           0   \n",
       "3           1           0           0           0           1           0   \n",
       "4           0           0           1           0           0           1   \n",
       "\n",
       "   VAR_0005_S  VAR_0237_AK  VAR_0237_AL  VAR_0237_AR      ...       \\\n",
       "0           0            0            0            0      ...        \n",
       "1           0            0            0            0      ...        \n",
       "2           0            0            0            0      ...        \n",
       "3           0            0            0            0      ...        \n",
       "4           0            0            0            0      ...        \n",
       "\n",
       "   VAR_0353_R  VAR_0353_U  VAR_0354_O  VAR_0354_R  VAR_0354_U  \\\n",
       "0           0           1           1           0           0   \n",
       "1           1           0           0           1           0   \n",
       "2           1           0           0           0           1   \n",
       "3           1           0           0           0           1   \n",
       "4           0           1           1           0           0   \n",
       "\n",
       "   VAR_1934_BRANCH  VAR_1934_CSC  VAR_1934_IAPS  VAR_1934_MOBILE  VAR_1934_RCC  \n",
       "0                0             0              1                0             0  \n",
       "1                0             0              1                0             0  \n",
       "2                0             0              1                0             0  \n",
       "3                0             0              0                0             1  \n",
       "4                1             0              0                0             0  \n",
       "\n",
       "[5 rows x 136 columns]"
      ]
     },
     "execution_count": 110,
     "metadata": {},
     "output_type": "execute_result"
    }
   ],
   "source": [
    "#Convertir a dummies las variables categóricas\n",
    "x3=pd.get_dummies(obj_X)\n",
    "x3.head()"
   ]
  },
  {
   "cell_type": "code",
   "execution_count": 111,
   "metadata": {},
   "outputs": [
    {
     "data": {
      "text/html": [
       "<div>\n",
       "<style scoped>\n",
       "    .dataframe tbody tr th:only-of-type {\n",
       "        vertical-align: middle;\n",
       "    }\n",
       "\n",
       "    .dataframe tbody tr th {\n",
       "        vertical-align: top;\n",
       "    }\n",
       "\n",
       "    .dataframe thead th {\n",
       "        text-align: right;\n",
       "    }\n",
       "</style>\n",
       "<table border=\"1\" class=\"dataframe\">\n",
       "  <thead>\n",
       "    <tr style=\"text-align: right;\">\n",
       "      <th></th>\n",
       "      <th>Unnamed: 0</th>\n",
       "      <th>ID</th>\n",
       "      <th>VAR_0002</th>\n",
       "      <th>VAR_0003</th>\n",
       "      <th>VAR_0004</th>\n",
       "      <th>VAR_0006</th>\n",
       "      <th>VAR_0007</th>\n",
       "      <th>VAR_0015</th>\n",
       "      <th>VAR_0016</th>\n",
       "      <th>VAR_0017</th>\n",
       "      <th>...</th>\n",
       "      <th>VAR_1867</th>\n",
       "      <th>VAR_1868</th>\n",
       "      <th>VAR_1869</th>\n",
       "      <th>VAR_1912</th>\n",
       "      <th>VAR_1918</th>\n",
       "      <th>VAR_1921</th>\n",
       "      <th>VAR_1922</th>\n",
       "      <th>VAR_1926</th>\n",
       "      <th>VAR_1929</th>\n",
       "      <th>VAR_1932</th>\n",
       "    </tr>\n",
       "  </thead>\n",
       "  <tbody>\n",
       "    <tr>\n",
       "      <th>0</th>\n",
       "      <td>0</td>\n",
       "      <td>2</td>\n",
       "      <td>224</td>\n",
       "      <td>0</td>\n",
       "      <td>4300</td>\n",
       "      <td>0.0</td>\n",
       "      <td>0.0</td>\n",
       "      <td>0.0</td>\n",
       "      <td>1.0</td>\n",
       "      <td>0.0</td>\n",
       "      <td>...</td>\n",
       "      <td>98</td>\n",
       "      <td>998</td>\n",
       "      <td>999999998</td>\n",
       "      <td>999999998</td>\n",
       "      <td>9998</td>\n",
       "      <td>98</td>\n",
       "      <td>999999998</td>\n",
       "      <td>98</td>\n",
       "      <td>999999998</td>\n",
       "      <td>9998</td>\n",
       "    </tr>\n",
       "    <tr>\n",
       "      <th>1</th>\n",
       "      <td>1</td>\n",
       "      <td>4</td>\n",
       "      <td>7</td>\n",
       "      <td>53</td>\n",
       "      <td>4448</td>\n",
       "      <td>1.0</td>\n",
       "      <td>0.0</td>\n",
       "      <td>1.0</td>\n",
       "      <td>2.0</td>\n",
       "      <td>1.0</td>\n",
       "      <td>...</td>\n",
       "      <td>98</td>\n",
       "      <td>998</td>\n",
       "      <td>999999998</td>\n",
       "      <td>6546</td>\n",
       "      <td>9996</td>\n",
       "      <td>98</td>\n",
       "      <td>999999998</td>\n",
       "      <td>98</td>\n",
       "      <td>999999998</td>\n",
       "      <td>9998</td>\n",
       "    </tr>\n",
       "    <tr>\n",
       "      <th>2</th>\n",
       "      <td>2</td>\n",
       "      <td>5</td>\n",
       "      <td>116</td>\n",
       "      <td>3</td>\n",
       "      <td>3464</td>\n",
       "      <td>0.0</td>\n",
       "      <td>0.0</td>\n",
       "      <td>0.0</td>\n",
       "      <td>1.0</td>\n",
       "      <td>0.0</td>\n",
       "      <td>...</td>\n",
       "      <td>98</td>\n",
       "      <td>998</td>\n",
       "      <td>999999998</td>\n",
       "      <td>999999997</td>\n",
       "      <td>9996</td>\n",
       "      <td>98</td>\n",
       "      <td>999999998</td>\n",
       "      <td>98</td>\n",
       "      <td>999999998</td>\n",
       "      <td>9998</td>\n",
       "    </tr>\n",
       "    <tr>\n",
       "      <th>3</th>\n",
       "      <td>3</td>\n",
       "      <td>7</td>\n",
       "      <td>240</td>\n",
       "      <td>300</td>\n",
       "      <td>3200</td>\n",
       "      <td>0.0</td>\n",
       "      <td>0.0</td>\n",
       "      <td>0.0</td>\n",
       "      <td>2.0</td>\n",
       "      <td>0.0</td>\n",
       "      <td>...</td>\n",
       "      <td>98</td>\n",
       "      <td>998</td>\n",
       "      <td>999999998</td>\n",
       "      <td>999999998</td>\n",
       "      <td>9998</td>\n",
       "      <td>98</td>\n",
       "      <td>999999998</td>\n",
       "      <td>98</td>\n",
       "      <td>999999998</td>\n",
       "      <td>9998</td>\n",
       "    </tr>\n",
       "    <tr>\n",
       "      <th>4</th>\n",
       "      <td>4</td>\n",
       "      <td>8</td>\n",
       "      <td>72</td>\n",
       "      <td>261</td>\n",
       "      <td>2000</td>\n",
       "      <td>0.0</td>\n",
       "      <td>0.0</td>\n",
       "      <td>0.0</td>\n",
       "      <td>1.0</td>\n",
       "      <td>0.0</td>\n",
       "      <td>...</td>\n",
       "      <td>98</td>\n",
       "      <td>998</td>\n",
       "      <td>999999998</td>\n",
       "      <td>999999998</td>\n",
       "      <td>9998</td>\n",
       "      <td>98</td>\n",
       "      <td>999999998</td>\n",
       "      <td>98</td>\n",
       "      <td>999999998</td>\n",
       "      <td>9998</td>\n",
       "    </tr>\n",
       "  </tbody>\n",
       "</table>\n",
       "<p>5 rows × 423 columns</p>\n",
       "</div>"
      ],
      "text/plain": [
       "   Unnamed: 0  ID  VAR_0002  VAR_0003  VAR_0004  VAR_0006  VAR_0007  VAR_0015  \\\n",
       "0           0   2       224         0      4300       0.0       0.0       0.0   \n",
       "1           1   4         7        53      4448       1.0       0.0       1.0   \n",
       "2           2   5       116         3      3464       0.0       0.0       0.0   \n",
       "3           3   7       240       300      3200       0.0       0.0       0.0   \n",
       "4           4   8        72       261      2000       0.0       0.0       0.0   \n",
       "\n",
       "   VAR_0016  VAR_0017    ...     VAR_1867  VAR_1868   VAR_1869   VAR_1912  \\\n",
       "0       1.0       0.0    ...           98       998  999999998  999999998   \n",
       "1       2.0       1.0    ...           98       998  999999998       6546   \n",
       "2       1.0       0.0    ...           98       998  999999998  999999997   \n",
       "3       2.0       0.0    ...           98       998  999999998  999999998   \n",
       "4       1.0       0.0    ...           98       998  999999998  999999998   \n",
       "\n",
       "   VAR_1918  VAR_1921   VAR_1922  VAR_1926   VAR_1929  VAR_1932  \n",
       "0      9998        98  999999998        98  999999998      9998  \n",
       "1      9996        98  999999998        98  999999998      9998  \n",
       "2      9996        98  999999998        98  999999998      9998  \n",
       "3      9998        98  999999998        98  999999998      9998  \n",
       "4      9998        98  999999998        98  999999998      9998  \n",
       "\n",
       "[5 rows x 423 columns]"
      ]
     },
     "execution_count": 111,
     "metadata": {},
     "output_type": "execute_result"
    }
   ],
   "source": [
    "#Base de datos con variables numéricas solamente.\n",
    "X2 = X.select_dtypes(exclude=['object']).copy()\n",
    "X2.head()\n"
   ]
  },
  {
   "cell_type": "code",
   "execution_count": 112,
   "metadata": {},
   "outputs": [
    {
     "data": {
      "text/plain": [
       "VAR_1932    0\n",
       "VAR_0258    0\n",
       "VAR_0279    0\n",
       "VAR_0267    0\n",
       "VAR_0266    0\n",
       "VAR_0262    0\n",
       "VAR_0261    0\n",
       "VAR_0260    0\n",
       "VAR_0257    0\n",
       "VAR_0225    0\n",
       "dtype: int64"
      ]
     },
     "execution_count": 112,
     "metadata": {},
     "output_type": "execute_result"
    }
   ],
   "source": [
    "#Nuevo conjunto predictor  concatenando las bases anteriores\n",
    "X = pd.concat([x3, X2], axis=1)\n",
    "X.fillna(0, inplace=True)\n",
    "X.isnull().sum().sort_values(ascending=False).head(10)\n"
   ]
  },
  {
   "cell_type": "markdown",
   "metadata": {},
   "source": [
    "## Calibración de los parámetros\n",
    "\n",
    "El primer parámetro que se calibra es el numero de árboles que se generarán para predecir, para ello:\n",
    "- Se crea un vector de 30 valores los cuales iteran de 10 en 10, \n",
    "- Se corre un modelo de random forest para cada iteración.\n",
    "- Se tiene en cuenta como medida de calibración el F1-score el cual es la medida apropiada teniendo en cuenta el desbalanceo de las clases.\n",
    "- Para la medición del F1-score se realiza metodo de cross validation con 5 folds promediando los valores obtenidos con este método."
   ]
  },
  {
   "cell_type": "code",
   "execution_count": 11,
   "metadata": {},
   "outputs": [],
   "source": [
    "#Lista de valores para probar n estimadores\n",
    "#Los estimadores determinan el número de arboles que se deben crear\n",
    "from sklearn.model_selection import cross_val_score\n",
    "estimator_range = range(10, 310, 10)\n",
    "\n",
    "\n",
    "# Con este comando se pretende obtener las medias de los f1-scores de los n estimadores\n",
    "F1_scores = []\n",
    "\n",
    "for estimator in estimator_range:\n",
    "    rfcla = RandomForestClassifier(n_estimators=estimator, random_state=1, n_jobs=-1)\n",
    "    f1_scores = cross_val_score(rfcla, X, y, cv=5, scoring='f1')\n",
    "    F1_scores.append(np.mean(f1_scores))\n"
   ]
  },
  {
   "cell_type": "markdown",
   "metadata": {},
   "source": [
    "Luego de realizar las treinta iteraciones se obtienen los siguientes resultados"
   ]
  },
  {
   "cell_type": "code",
   "execution_count": 20,
   "metadata": {},
   "outputs": [
    {
     "data": {
      "text/plain": [
       "[0.27286256962494615,\n",
       " 0.28019251762242253,\n",
       " 0.27858901619799686,\n",
       " 0.27888927042592176,\n",
       " 0.2766325192640414,\n",
       " 0.2778087674789369,\n",
       " 0.2763818613979362,\n",
       " 0.2762720800133848,\n",
       " 0.2766332852425256,\n",
       " 0.27645922476078094,\n",
       " 0.2761447605251247,\n",
       " 0.2746521025533798,\n",
       " 0.27597249503047266,\n",
       " 0.2782380916022138,\n",
       " 0.27839142849502724,\n",
       " 0.2777062293354546,\n",
       " 0.27728727692469846,\n",
       " 0.2778422666736196,\n",
       " 0.2776036934415105,\n",
       " 0.27806016818800394,\n",
       " 0.27859264710545095,\n",
       " 0.27919348909037217,\n",
       " 0.2802760227966647,\n",
       " 0.2804738835038291,\n",
       " 0.2797957431440524,\n",
       " 0.27933996232766534,\n",
       " 0.27875011710902503,\n",
       " 0.27814785622591426,\n",
       " 0.27929098526045554,\n",
       " 0.27907272593724053]"
      ]
     },
     "execution_count": 20,
     "metadata": {},
     "output_type": "execute_result"
    }
   ],
   "source": [
    "F1_scores"
   ]
  },
  {
   "cell_type": "code",
   "execution_count": 16,
   "metadata": {},
   "outputs": [
    {
     "data": {
      "text/plain": [
       "Text(0,0.5,'F1(Alto es mejor)')"
      ]
     },
     "execution_count": 16,
     "metadata": {},
     "output_type": "execute_result"
    },
    {
     "data": {
      "image/png": "[encoded data removed]",
      "text/plain": [
       "<Figure size 432x288 with 1 Axes>"
      ]
     },
     "metadata": {},
     "output_type": "display_data"
    }
   ],
   "source": [
    "# Graficando los n estimadores versus el F1 score\n",
    "import matplotlib.pyplot as plt\n",
    "max_depth_range = range(1, 31,1)\n",
    "plt.plot(max_depth_range, F1_scores)\n",
    "plt.xlabel('max_depth')\n",
    "plt.ylabel('F1(Alto es mejor)')"
   ]
  },
  {
   "cell_type": "code",
   "execution_count": 17,
   "metadata": {
    "scrolled": true
   },
   "outputs": [
    {
     "data": {
      "text/plain": [
       "0.2804738835038291"
      ]
     },
     "execution_count": 17,
     "metadata": {},
     "output_type": "execute_result"
    }
   ],
   "source": [
    "max(F1_scores)"
   ]
  },
  {
   "cell_type": "markdown",
   "metadata": {},
   "source": [
    "El máximo F1-score obtenido es 0.2805, este valor se presenta en la iteración 24 luego **el número de árboles óptimo es 241**"
   ]
  },
  {
   "cell_type": "code",
   "execution_count": 34,
   "metadata": {},
   "outputs": [
    {
     "data": {
      "text/plain": [
       "Index(['VAR_0001_H', 'VAR_0001_Q', 'VAR_0001_R', 'VAR_0005_B', 'VAR_0005_C',\n",
       "       'VAR_0005_N', 'VAR_0005_S', 'VAR_0237_AK', 'VAR_0237_AL', 'VAR_0237_AR',\n",
       "       ...\n",
       "       'VAR_1867', 'VAR_1868', 'VAR_1869', 'VAR_1912', 'VAR_1918', 'VAR_1921',\n",
       "       'VAR_1922', 'VAR_1926', 'VAR_1929', 'VAR_1932'],\n",
       "      dtype='object', length=559)"
      ]
     },
     "execution_count": 34,
     "metadata": {},
     "output_type": "execute_result"
    }
   ],
   "source": [
    "#Vector con nombre de las variables \n",
    "feature_cols = X.columns[X.columns.str.startswith('C') == False]\n",
    "feature_cols"
   ]
  },
  {
   "cell_type": "markdown",
   "metadata": {},
   "source": [
    "El segundo parámetro que se calibra es el número de variables que se utilizarán para predecir, para ello:\n",
    "- Se crea un vector de 81 valores los cuales iteran de 1 en 1, \n",
    "- Se corre un modelo de random forest para cada iteración con 240 árboles.\n",
    "- Se tiene en cuenta como medida de calibración el F1-score el cual es la medida apropiada teniendo en cuenta el desbalanceo de las clases.\n",
    "- Para la medición del F1-score se realiza metodo de cross validation con 5 folds promediando los valores obtenidos con este método."
   ]
  },
  {
   "cell_type": "code",
   "execution_count": 35,
   "metadata": {},
   "outputs": [],
   "source": [
    "# Lista con el máximo de variables\n",
    "feature_range = range(1, 81)"
   ]
  },
  {
   "cell_type": "code",
   "execution_count": 26,
   "metadata": {
    "scrolled": true
   },
   "outputs": [
    {
     "data": {
      "text/plain": [
       "[0.09442143292711554,\n",
       " 0.13311861771199468,\n",
       " 0.16266415085279365,\n",
       " 0.1867833021658951,\n",
       " 0.20208620539492697,\n",
       " 0.21637074011591997,\n",
       " 0.22465253599554194,\n",
       " 0.2325603754141985,\n",
       " 0.2374914285843806,\n",
       " 0.24570721294796663,\n",
       " 0.25194178818313934,\n",
       " 0.25431478483557246,\n",
       " 0.256529210704899,\n",
       " 0.25978062916216965,\n",
       " 0.2609482522516491,\n",
       " 0.2666751889512379,\n",
       " 0.2670112833410937,\n",
       " 0.27153260791173556,\n",
       " 0.26804345063313606,\n",
       " 0.27347373098842126,\n",
       " 0.27790078958750863,\n",
       " 0.27883126599133684,\n",
       " 0.2804738835038291,\n",
       " 0.2800968817803547,\n",
       " 0.28216847097628295,\n",
       " 0.2825460368073801,\n",
       " 0.2834092008842855,\n",
       " 0.284451727210307,\n",
       " 0.28486615631084683,\n",
       " 0.2871516364117606,\n",
       " 0.28963389416405894,\n",
       " 0.29061661646566395,\n",
       " 0.2882064421745967,\n",
       " 0.2875103931962987,\n",
       " 0.2922759743600772,\n",
       " 0.2901040750280847,\n",
       " 0.2944151823595823,\n",
       " 0.29292343197751947,\n",
       " 0.2928262312200041,\n",
       " 0.29550499165850563,\n",
       " 0.2960588812173438,\n",
       " 0.2995455656639209,\n",
       " 0.2930170353217652,\n",
       " 0.2946123974006372,\n",
       " 0.29646601812392687,\n",
       " 0.2966627707986519,\n",
       " 0.2975853040736356,\n",
       " 0.29908620313172085,\n",
       " 0.3003866389393484,\n",
       " 0.2981045629143134,\n",
       " 0.3008671165374619,\n",
       " 0.2995493559173362,\n",
       " 0.29994641082005313,\n",
       " 0.30092785053014315,\n",
       " 0.30069761516385596,\n",
       " 0.3023415544042765,\n",
       " 0.3044948047079902,\n",
       " 0.3023753048877871,\n",
       " 0.30445965465216185,\n",
       " 0.30103935208691684,\n",
       " 0.30143447592875783,\n",
       " 0.30537858857638966,\n",
       " 0.3039381553368278,\n",
       " 0.3071153170459612,\n",
       " 0.30448451164537527,\n",
       " 0.3064105339278947,\n",
       " 0.3065903064962857,\n",
       " 0.304507164614937,\n",
       " 0.3084771625445899,\n",
       " 0.30558323450076413,\n",
       " 0.308188176910544,\n",
       " 0.3081787249165917,\n",
       " 0.31026699882970377,\n",
       " 0.3071657927121878,\n",
       " 0.30805538151792095,\n",
       " 0.30868302459801134,\n",
       " 0.308726972937537,\n",
       " 0.31104247544327607,\n",
       " 0.31050306761199076,\n",
       " 0.3090232866727325,\n",
       " 0.30960854674031335]"
      ]
     },
     "execution_count": 26,
     "metadata": {},
     "output_type": "execute_result"
    }
   ],
   "source": [
    "# Con este comando se pretende obtener las medias de los f1-scores de las n variables\n",
    "F1_scores2 = []\n",
    "\n",
    "# Este comando permite calibrar las variables usadas\n",
    "for feature in feature_range:\n",
    "    rfcla = RandomForestClassifier(n_estimators=241, max_features=feature, random_state=1, n_jobs=-1)\n",
    "    f1_scores2 = cross_val_score(rfcla, X, y, cv=5, scoring='f1')\n",
    "    F1_scores2.append(np.mean(f1_scores2))\n",
    "F1_scores2"
   ]
  },
  {
   "cell_type": "code",
   "execution_count": 23,
   "metadata": {
    "scrolled": true
   },
   "outputs": [
    {
     "data": {
      "text/plain": [
       "81"
      ]
     },
     "execution_count": 23,
     "metadata": {},
     "output_type": "execute_result"
    }
   ],
   "source": [
    "len(F1_scores2)"
   ]
  },
  {
   "cell_type": "code",
   "execution_count": 24,
   "metadata": {
    "scrolled": true
   },
   "outputs": [
    {
     "data": {
      "text/plain": [
       "Text(0,0.5,'F1(Alto es mejor)')"
      ]
     },
     "execution_count": 24,
     "metadata": {},
     "output_type": "execute_result"
    },
    {
     "data": {
      "image/png": "[encoded data removed]",
      "text/plain": [
       "<Figure size 432x288 with 1 Axes>"
      ]
     },
     "metadata": {},
     "output_type": "display_data"
    }
   ],
   "source": [
    "# Gráfica del numero de variables vs F1 score\n",
    "plt.plot(range(81), F1_scores2)\n",
    "plt.xlabel('max_features')\n",
    "plt.ylabel('F1(Alto es mejor)')"
   ]
  },
  {
   "cell_type": "code",
   "execution_count": 44,
   "metadata": {},
   "outputs": [
    {
     "data": {
      "text/plain": [
       "(0.31104247544327607, 78)"
      ]
     },
     "execution_count": 44,
     "metadata": {},
     "output_type": "execute_result"
    }
   ],
   "source": [
    "sorted(zip(F1_scores2, feature_range))[79]"
   ]
  },
  {
   "cell_type": "markdown",
   "metadata": {},
   "source": [
    "El máximo F1-score obtenido es 0.3110, este valor  presenta en la iteración 78 luego **el número de variables óptimo es 78**"
   ]
  },
  {
   "cell_type": "markdown",
   "metadata": {},
   "source": [
    "## Resolviendo un random forest con los mejores parámetros \n",
    "\n",
    "n-estimado=240, Variables =78 y profundidad del arbol= 3."
   ]
  },
  {
   "cell_type": "code",
   "execution_count": 132,
   "metadata": {},
   "outputs": [
    {
     "data": {
      "text/plain": [
       "RandomForestClassifier(bootstrap=True, class_weight=None, criterion='gini',\n",
       "            max_depth=3, max_features=78, max_leaf_nodes=None,\n",
       "            min_impurity_decrease=0.0, min_impurity_split=None,\n",
       "            min_samples_leaf=1, min_samples_split=2,\n",
       "            min_weight_fraction_leaf=0.0, n_estimators=241, n_jobs=1,\n",
       "            oob_score=True, random_state=1, verbose=0, warm_start=False)"
      ]
     },
     "execution_count": 132,
     "metadata": {},
     "output_type": "execute_result"
    }
   ],
   "source": [
    "# modelo con los parámetros calibrados\n",
    "rfcla = RandomForestClassifier(n_estimators=241, max_features=78, max_depth=3, oob_score=True, random_state=1)\n",
    "rfcla.fit(X, y)"
   ]
  },
  {
   "cell_type": "markdown",
   "metadata": {},
   "source": [
    "## Importancia de las variables\n",
    "\n",
    "Luego de calcular el modelo con los valores óptimos se estima la importancia de las variables."
   ]
  },
  {
   "cell_type": "code",
   "execution_count": 69,
   "metadata": {},
   "outputs": [
    {
     "data": {
      "text/html": [
       "<div>\n",
       "<style scoped>\n",
       "    .dataframe tbody tr th:only-of-type {\n",
       "        vertical-align: middle;\n",
       "    }\n",
       "\n",
       "    .dataframe tbody tr th {\n",
       "        vertical-align: top;\n",
       "    }\n",
       "\n",
       "    .dataframe thead th {\n",
       "        text-align: right;\n",
       "    }\n",
       "</style>\n",
       "<table border=\"1\" class=\"dataframe\">\n",
       "  <thead>\n",
       "    <tr style=\"text-align: right;\">\n",
       "      <th></th>\n",
       "      <th>feature</th>\n",
       "      <th>importance</th>\n",
       "    </tr>\n",
       "  </thead>\n",
       "  <tbody>\n",
       "    <tr>\n",
       "      <th>159</th>\n",
       "      <td>VAR_0070</td>\n",
       "      <td>0.105244</td>\n",
       "    </tr>\n",
       "    <tr>\n",
       "      <th>143</th>\n",
       "      <td>VAR_0015</td>\n",
       "      <td>0.098455</td>\n",
       "    </tr>\n",
       "    <tr>\n",
       "      <th>142</th>\n",
       "      <td>VAR_0007</td>\n",
       "      <td>0.083798</td>\n",
       "    </tr>\n",
       "    <tr>\n",
       "      <th>141</th>\n",
       "      <td>VAR_0006</td>\n",
       "      <td>0.081487</td>\n",
       "    </tr>\n",
       "    <tr>\n",
       "      <th>381</th>\n",
       "      <td>VAR_0795</td>\n",
       "      <td>0.068484</td>\n",
       "    </tr>\n",
       "    <tr>\n",
       "      <th>158</th>\n",
       "      <td>VAR_0067</td>\n",
       "      <td>0.061345</td>\n",
       "    </tr>\n",
       "    <tr>\n",
       "      <th>145</th>\n",
       "      <td>VAR_0017</td>\n",
       "      <td>0.052480</td>\n",
       "    </tr>\n",
       "    <tr>\n",
       "      <th>156</th>\n",
       "      <td>VAR_0060</td>\n",
       "      <td>0.042172</td>\n",
       "    </tr>\n",
       "    <tr>\n",
       "      <th>281</th>\n",
       "      <td>VAR_0505</td>\n",
       "      <td>0.035406</td>\n",
       "    </tr>\n",
       "    <tr>\n",
       "      <th>157</th>\n",
       "      <td>VAR_0066</td>\n",
       "      <td>0.028769</td>\n",
       "    </tr>\n",
       "    <tr>\n",
       "      <th>147</th>\n",
       "      <td>VAR_0034</td>\n",
       "      <td>0.027199</td>\n",
       "    </tr>\n",
       "    <tr>\n",
       "      <th>404</th>\n",
       "      <td>VAR_0885</td>\n",
       "      <td>0.026729</td>\n",
       "    </tr>\n",
       "    <tr>\n",
       "      <th>176</th>\n",
       "      <td>VAR_0232</td>\n",
       "      <td>0.020597</td>\n",
       "    </tr>\n",
       "    <tr>\n",
       "      <th>431</th>\n",
       "      <td>VAR_0968</td>\n",
       "      <td>0.019253</td>\n",
       "    </tr>\n",
       "    <tr>\n",
       "      <th>457</th>\n",
       "      <td>VAR_1136</td>\n",
       "      <td>0.018471</td>\n",
       "    </tr>\n",
       "    <tr>\n",
       "      <th>173</th>\n",
       "      <td>VAR_0224</td>\n",
       "      <td>0.014851</td>\n",
       "    </tr>\n",
       "    <tr>\n",
       "      <th>454</th>\n",
       "      <td>VAR_1123</td>\n",
       "      <td>0.013237</td>\n",
       "    </tr>\n",
       "    <tr>\n",
       "      <th>399</th>\n",
       "      <td>VAR_0853</td>\n",
       "      <td>0.013197</td>\n",
       "    </tr>\n",
       "    <tr>\n",
       "      <th>452</th>\n",
       "      <td>VAR_1115</td>\n",
       "      <td>0.012842</td>\n",
       "    </tr>\n",
       "    <tr>\n",
       "      <th>405</th>\n",
       "      <td>VAR_0886</td>\n",
       "      <td>0.011326</td>\n",
       "    </tr>\n",
       "    <tr>\n",
       "      <th>148</th>\n",
       "      <td>VAR_0035</td>\n",
       "      <td>0.010807</td>\n",
       "    </tr>\n",
       "    <tr>\n",
       "      <th>160</th>\n",
       "      <td>VAR_0074</td>\n",
       "      <td>0.010044</td>\n",
       "    </tr>\n",
       "    <tr>\n",
       "      <th>434</th>\n",
       "      <td>VAR_0973</td>\n",
       "      <td>0.009876</td>\n",
       "    </tr>\n",
       "    <tr>\n",
       "      <th>414</th>\n",
       "      <td>VAR_0917</td>\n",
       "      <td>0.009214</td>\n",
       "    </tr>\n",
       "    <tr>\n",
       "      <th>453</th>\n",
       "      <td>VAR_1119</td>\n",
       "      <td>0.008983</td>\n",
       "    </tr>\n",
       "    <tr>\n",
       "      <th>279</th>\n",
       "      <td>VAR_0503</td>\n",
       "      <td>0.008871</td>\n",
       "    </tr>\n",
       "    <tr>\n",
       "      <th>447</th>\n",
       "      <td>VAR_1106</td>\n",
       "      <td>0.008616</td>\n",
       "    </tr>\n",
       "    <tr>\n",
       "      <th>291</th>\n",
       "      <td>VAR_0540</td>\n",
       "      <td>0.008580</td>\n",
       "    </tr>\n",
       "    <tr>\n",
       "      <th>150</th>\n",
       "      <td>VAR_0037</td>\n",
       "      <td>0.006684</td>\n",
       "    </tr>\n",
       "    <tr>\n",
       "      <th>149</th>\n",
       "      <td>VAR_0036</td>\n",
       "      <td>0.006199</td>\n",
       "    </tr>\n",
       "    <tr>\n",
       "      <th>...</th>\n",
       "      <td>...</td>\n",
       "      <td>...</td>\n",
       "    </tr>\n",
       "    <tr>\n",
       "      <th>478</th>\n",
       "      <td>VAR_1382</td>\n",
       "      <td>0.001275</td>\n",
       "    </tr>\n",
       "    <tr>\n",
       "      <th>458</th>\n",
       "      <td>VAR_1137</td>\n",
       "      <td>0.001073</td>\n",
       "    </tr>\n",
       "    <tr>\n",
       "      <th>364</th>\n",
       "      <td>VAR_0725</td>\n",
       "      <td>0.001013</td>\n",
       "    </tr>\n",
       "    <tr>\n",
       "      <th>440</th>\n",
       "      <td>VAR_1022</td>\n",
       "      <td>0.000953</td>\n",
       "    </tr>\n",
       "    <tr>\n",
       "      <th>480</th>\n",
       "      <td>VAR_1391</td>\n",
       "      <td>0.000849</td>\n",
       "    </tr>\n",
       "    <tr>\n",
       "      <th>474</th>\n",
       "      <td>VAR_1260</td>\n",
       "      <td>0.000748</td>\n",
       "    </tr>\n",
       "    <tr>\n",
       "      <th>293</th>\n",
       "      <td>VAR_0545</td>\n",
       "      <td>0.000712</td>\n",
       "    </tr>\n",
       "    <tr>\n",
       "      <th>358</th>\n",
       "      <td>VAR_0711</td>\n",
       "      <td>0.000711</td>\n",
       "    </tr>\n",
       "    <tr>\n",
       "      <th>347</th>\n",
       "      <td>VAR_0690</td>\n",
       "      <td>0.000581</td>\n",
       "    </tr>\n",
       "    <tr>\n",
       "      <th>546</th>\n",
       "      <td>VAR_1838</td>\n",
       "      <td>0.000561</td>\n",
       "    </tr>\n",
       "    <tr>\n",
       "      <th>315</th>\n",
       "      <td>VAR_0604</td>\n",
       "      <td>0.000435</td>\n",
       "    </tr>\n",
       "    <tr>\n",
       "      <th>545</th>\n",
       "      <td>VAR_1819</td>\n",
       "      <td>0.000421</td>\n",
       "    </tr>\n",
       "    <tr>\n",
       "      <th>481</th>\n",
       "      <td>VAR_1393</td>\n",
       "      <td>0.000342</td>\n",
       "    </tr>\n",
       "    <tr>\n",
       "      <th>541</th>\n",
       "      <td>VAR_1743</td>\n",
       "      <td>0.000339</td>\n",
       "    </tr>\n",
       "    <tr>\n",
       "      <th>455</th>\n",
       "      <td>VAR_1132</td>\n",
       "      <td>0.000289</td>\n",
       "    </tr>\n",
       "    <tr>\n",
       "      <th>482</th>\n",
       "      <td>VAR_1402</td>\n",
       "      <td>0.000279</td>\n",
       "    </tr>\n",
       "    <tr>\n",
       "      <th>427</th>\n",
       "      <td>VAR_0961</td>\n",
       "      <td>0.000272</td>\n",
       "    </tr>\n",
       "    <tr>\n",
       "      <th>438</th>\n",
       "      <td>VAR_1020</td>\n",
       "      <td>0.000269</td>\n",
       "    </tr>\n",
       "    <tr>\n",
       "      <th>420</th>\n",
       "      <td>VAR_0945</td>\n",
       "      <td>0.000268</td>\n",
       "    </tr>\n",
       "    <tr>\n",
       "      <th>359</th>\n",
       "      <td>VAR_0716</td>\n",
       "      <td>0.000252</td>\n",
       "    </tr>\n",
       "    <tr>\n",
       "      <th>334</th>\n",
       "      <td>VAR_0651</td>\n",
       "      <td>0.000241</td>\n",
       "    </tr>\n",
       "    <tr>\n",
       "      <th>439</th>\n",
       "      <td>VAR_1021</td>\n",
       "      <td>0.000231</td>\n",
       "    </tr>\n",
       "    <tr>\n",
       "      <th>348</th>\n",
       "      <td>VAR_0692</td>\n",
       "      <td>0.000186</td>\n",
       "    </tr>\n",
       "    <tr>\n",
       "      <th>311</th>\n",
       "      <td>VAR_0579</td>\n",
       "      <td>0.000180</td>\n",
       "    </tr>\n",
       "    <tr>\n",
       "      <th>542</th>\n",
       "      <td>VAR_1747</td>\n",
       "      <td>0.000158</td>\n",
       "    </tr>\n",
       "    <tr>\n",
       "      <th>345</th>\n",
       "      <td>VAR_0685</td>\n",
       "      <td>0.000146</td>\n",
       "    </tr>\n",
       "    <tr>\n",
       "      <th>363</th>\n",
       "      <td>VAR_0724</td>\n",
       "      <td>0.000123</td>\n",
       "    </tr>\n",
       "    <tr>\n",
       "      <th>519</th>\n",
       "      <td>VAR_1571</td>\n",
       "      <td>0.000123</td>\n",
       "    </tr>\n",
       "    <tr>\n",
       "      <th>473</th>\n",
       "      <td>VAR_1258</td>\n",
       "      <td>0.000119</td>\n",
       "    </tr>\n",
       "    <tr>\n",
       "      <th>522</th>\n",
       "      <td>VAR_1579</td>\n",
       "      <td>0.000116</td>\n",
       "    </tr>\n",
       "  </tbody>\n",
       "</table>\n",
       "<p>80 rows × 2 columns</p>\n",
       "</div>"
      ],
      "text/plain": [
       "      feature  importance\n",
       "159  VAR_0070    0.105244\n",
       "143  VAR_0015    0.098455\n",
       "142  VAR_0007    0.083798\n",
       "141  VAR_0006    0.081487\n",
       "381  VAR_0795    0.068484\n",
       "158  VAR_0067    0.061345\n",
       "145  VAR_0017    0.052480\n",
       "156  VAR_0060    0.042172\n",
       "281  VAR_0505    0.035406\n",
       "157  VAR_0066    0.028769\n",
       "147  VAR_0034    0.027199\n",
       "404  VAR_0885    0.026729\n",
       "176  VAR_0232    0.020597\n",
       "431  VAR_0968    0.019253\n",
       "457  VAR_1136    0.018471\n",
       "173  VAR_0224    0.014851\n",
       "454  VAR_1123    0.013237\n",
       "399  VAR_0853    0.013197\n",
       "452  VAR_1115    0.012842\n",
       "405  VAR_0886    0.011326\n",
       "148  VAR_0035    0.010807\n",
       "160  VAR_0074    0.010044\n",
       "434  VAR_0973    0.009876\n",
       "414  VAR_0917    0.009214\n",
       "453  VAR_1119    0.008983\n",
       "279  VAR_0503    0.008871\n",
       "447  VAR_1106    0.008616\n",
       "291  VAR_0540    0.008580\n",
       "150  VAR_0037    0.006684\n",
       "149  VAR_0036    0.006199\n",
       "..        ...         ...\n",
       "478  VAR_1382    0.001275\n",
       "458  VAR_1137    0.001073\n",
       "364  VAR_0725    0.001013\n",
       "440  VAR_1022    0.000953\n",
       "480  VAR_1391    0.000849\n",
       "474  VAR_1260    0.000748\n",
       "293  VAR_0545    0.000712\n",
       "358  VAR_0711    0.000711\n",
       "347  VAR_0690    0.000581\n",
       "546  VAR_1838    0.000561\n",
       "315  VAR_0604    0.000435\n",
       "545  VAR_1819    0.000421\n",
       "481  VAR_1393    0.000342\n",
       "541  VAR_1743    0.000339\n",
       "455  VAR_1132    0.000289\n",
       "482  VAR_1402    0.000279\n",
       "427  VAR_0961    0.000272\n",
       "438  VAR_1020    0.000269\n",
       "420  VAR_0945    0.000268\n",
       "359  VAR_0716    0.000252\n",
       "334  VAR_0651    0.000241\n",
       "439  VAR_1021    0.000231\n",
       "348  VAR_0692    0.000186\n",
       "311  VAR_0579    0.000180\n",
       "542  VAR_1747    0.000158\n",
       "345  VAR_0685    0.000146\n",
       "363  VAR_0724    0.000123\n",
       "519  VAR_1571    0.000123\n",
       "473  VAR_1258    0.000119\n",
       "522  VAR_1579    0.000116\n",
       "\n",
       "[80 rows x 2 columns]"
      ]
     },
     "execution_count": 69,
     "metadata": {},
     "output_type": "execute_result"
    }
   ],
   "source": [
    "# Calculando las importancias de las variables\n",
    "pd.DataFrame({'feature':feature_cols, 'importance':rfcla.feature_importances_}).sort_values('importance', ascending=False).head(80)"
   ]
  },
  {
   "cell_type": "code",
   "execution_count": 70,
   "metadata": {},
   "outputs": [
    {
     "data": {
      "text/plain": [
       "0.7700603699827415"
      ]
     },
     "execution_count": 70,
     "metadata": {},
     "output_type": "execute_result"
    }
   ],
   "source": [
    "# calcular el  out-of-bag R-squared score\n",
    "rfcla.oob_score_"
   ]
  },
  {
   "cell_type": "markdown",
   "metadata": {},
   "source": [
    "## Selección de variables importantes\n",
    "\n",
    "Con los siguientes procesos se pretende acotar el conjunto de entrenamiento a un valor más pequeño de variables, por ello se evaluan diferentes threshold para seleccionar un número apropiado de variables."
   ]
  },
  {
   "cell_type": "code",
   "execution_count": 71,
   "metadata": {},
   "outputs": [
    {
     "name": "stdout",
     "output_type": "stream",
     "text": [
      "(144277, 22)\n",
      "(144277, 45)\n",
      "(144277, 559)\n"
     ]
    }
   ],
   "source": [
    "# Selección de variables importantes con diferentes threshold\n",
    "from sklearn.feature_selection import SelectFromModel\n",
    "print(SelectFromModel(rfcla, threshold=0.01, prefit=True).transform(X).shape)\n",
    "print(SelectFromModel(rfcla, threshold='mean', prefit=True).transform(X).shape)\n",
    "print(SelectFromModel(rfcla, threshold='median', prefit=True).transform(X).shape)"
   ]
  },
  {
   "cell_type": "markdown",
   "metadata": {},
   "source": [
    "Nótese que tan solo 22 variables cuentan con  una importancia superior al 1%, con un threshold equivalente a la media, 45 variables quedan importantes."
   ]
  },
  {
   "cell_type": "code",
   "execution_count": 73,
   "metadata": {},
   "outputs": [
    {
     "data": {
      "text/plain": [
       "array([[0.000e+00, 0.000e+00, 0.000e+00, ..., 9.996e+03, 9.996e+03,\n",
       "        0.000e+00],\n",
       "       [1.000e+00, 0.000e+00, 1.000e+00, ..., 9.996e+03, 9.996e+03,\n",
       "        0.000e+00],\n",
       "       [0.000e+00, 0.000e+00, 0.000e+00, ..., 2.400e+01, 2.400e+01,\n",
       "        0.000e+00],\n",
       "       ...,\n",
       "       [3.000e+00, 1.000e+00, 5.000e+00, ..., 5.400e+01, 1.600e+01,\n",
       "        0.000e+00],\n",
       "       [1.000e+00, 1.000e+00, 1.000e+00, ..., 2.000e+00, 2.000e+00,\n",
       "        0.000e+00],\n",
       "       [0.000e+00, 0.000e+00, 0.000e+00, ..., 0.000e+00, 0.000e+00,\n",
       "        3.306e+03]])"
      ]
     },
     "execution_count": 73,
     "metadata": {},
     "output_type": "execute_result"
    }
   ],
   "source": [
    "# create a new feature matrix that only includes important features\n",
    "X_important = SelectFromModel(rfcla, threshold='mean', prefit=True).transform(X)\n",
    "X_important"
   ]
  },
  {
   "cell_type": "code",
   "execution_count": 74,
   "metadata": {},
   "outputs": [
    {
     "data": {
      "text/plain": [
       "0.15180957407722245"
      ]
     },
     "execution_count": 74,
     "metadata": {},
     "output_type": "execute_result"
    }
   ],
   "source": [
    "# Se estima un modelo incluyendo solo las variables importantes\n",
    "rfcla1 = RandomForestClassifier(n_estimators=240, max_features=45, max_depth=3, random_state=1)\n",
    "scores = cross_val_score(rfcla1, X_important, y, cv=10, scoring='f1')\n",
    "np.mean(scores)"
   ]
  },
  {
   "cell_type": "code",
   "execution_count": 131,
   "metadata": {},
   "outputs": [
    {
     "data": {
      "text/plain": [
       "RandomForestClassifier(bootstrap=True, class_weight=None, criterion='gini',\n",
       "            max_depth=3, max_features=45, max_leaf_nodes=None,\n",
       "            min_impurity_decrease=0.0, min_impurity_split=None,\n",
       "            min_samples_leaf=1, min_samples_split=2,\n",
       "            min_weight_fraction_leaf=0.0, n_estimators=240, n_jobs=1,\n",
       "            oob_score=False, random_state=1, verbose=0, warm_start=False)"
      ]
     },
     "execution_count": 131,
     "metadata": {},
     "output_type": "execute_result"
    }
   ],
   "source": [
    "rfcla1.fit(X_important,y)"
   ]
  },
  {
   "cell_type": "markdown",
   "metadata": {},
   "source": [
    "El modelo obtenido cuenta con un score mucho menor al obtenido en el modelo con 78 variables luego se sigue trabajando con el primer modelo obtenido"
   ]
  },
  {
   "cell_type": "code",
   "execution_count": 76,
   "metadata": {},
   "outputs": [
    {
     "data": {
      "text/plain": [
       "0.772118915933353"
      ]
     },
     "execution_count": 76,
     "metadata": {},
     "output_type": "execute_result"
    }
   ],
   "source": [
    "scores2 = cross_val_score(rfcla1, X_important, y, cv=5)\n",
    "np.mean(scores2)"
   ]
  },
  {
   "cell_type": "markdown",
   "metadata": {},
   "source": [
    "# Evaluación del modelo en la base test\n",
    "\n",
    "Para evaluar el modelo en la base test es necesario que esta cuente con la misma estructura de la base Train por ello se convienten a dummies las variables categóricas."
   ]
  },
  {
   "cell_type": "code",
   "execution_count": 113,
   "metadata": {},
   "outputs": [
    {
     "data": {
      "text/html": [
       "<div>\n",
       "<style scoped>\n",
       "    .dataframe tbody tr th:only-of-type {\n",
       "        vertical-align: middle;\n",
       "    }\n",
       "\n",
       "    .dataframe tbody tr th {\n",
       "        vertical-align: top;\n",
       "    }\n",
       "\n",
       "    .dataframe thead th {\n",
       "        text-align: right;\n",
       "    }\n",
       "</style>\n",
       "<table border=\"1\" class=\"dataframe\">\n",
       "  <thead>\n",
       "    <tr style=\"text-align: right;\">\n",
       "      <th></th>\n",
       "      <th>VAR_0001_H</th>\n",
       "      <th>VAR_0001_Q</th>\n",
       "      <th>VAR_0001_R</th>\n",
       "      <th>VAR_0005_B</th>\n",
       "      <th>VAR_0005_C</th>\n",
       "      <th>VAR_0005_N</th>\n",
       "      <th>VAR_0005_S</th>\n",
       "      <th>VAR_0237_AK</th>\n",
       "      <th>VAR_0237_AL</th>\n",
       "      <th>VAR_0237_AR</th>\n",
       "      <th>...</th>\n",
       "      <th>VAR_1867</th>\n",
       "      <th>VAR_1868</th>\n",
       "      <th>VAR_1869</th>\n",
       "      <th>VAR_1912</th>\n",
       "      <th>VAR_1918</th>\n",
       "      <th>VAR_1921</th>\n",
       "      <th>VAR_1922</th>\n",
       "      <th>VAR_1926</th>\n",
       "      <th>VAR_1929</th>\n",
       "      <th>VAR_1932</th>\n",
       "    </tr>\n",
       "  </thead>\n",
       "  <tbody>\n",
       "    <tr>\n",
       "      <th>0</th>\n",
       "      <td>0</td>\n",
       "      <td>0</td>\n",
       "      <td>1</td>\n",
       "      <td>1</td>\n",
       "      <td>0</td>\n",
       "      <td>0</td>\n",
       "      <td>0</td>\n",
       "      <td>0</td>\n",
       "      <td>0</td>\n",
       "      <td>0</td>\n",
       "      <td>...</td>\n",
       "      <td>98</td>\n",
       "      <td>998</td>\n",
       "      <td>999999998</td>\n",
       "      <td>6121</td>\n",
       "      <td>47</td>\n",
       "      <td>98</td>\n",
       "      <td>999999998</td>\n",
       "      <td>98</td>\n",
       "      <td>999999998</td>\n",
       "      <td>9998</td>\n",
       "    </tr>\n",
       "    <tr>\n",
       "      <th>1</th>\n",
       "      <td>0</td>\n",
       "      <td>0</td>\n",
       "      <td>1</td>\n",
       "      <td>0</td>\n",
       "      <td>1</td>\n",
       "      <td>0</td>\n",
       "      <td>0</td>\n",
       "      <td>0</td>\n",
       "      <td>0</td>\n",
       "      <td>0</td>\n",
       "      <td>...</td>\n",
       "      <td>0</td>\n",
       "      <td>0</td>\n",
       "      <td>999999997</td>\n",
       "      <td>999999998</td>\n",
       "      <td>9998</td>\n",
       "      <td>98</td>\n",
       "      <td>999999998</td>\n",
       "      <td>98</td>\n",
       "      <td>999999998</td>\n",
       "      <td>9998</td>\n",
       "    </tr>\n",
       "    <tr>\n",
       "      <th>2</th>\n",
       "      <td>0</td>\n",
       "      <td>0</td>\n",
       "      <td>1</td>\n",
       "      <td>0</td>\n",
       "      <td>1</td>\n",
       "      <td>0</td>\n",
       "      <td>0</td>\n",
       "      <td>0</td>\n",
       "      <td>0</td>\n",
       "      <td>0</td>\n",
       "      <td>...</td>\n",
       "      <td>98</td>\n",
       "      <td>998</td>\n",
       "      <td>999999998</td>\n",
       "      <td>999999998</td>\n",
       "      <td>9998</td>\n",
       "      <td>98</td>\n",
       "      <td>999999998</td>\n",
       "      <td>98</td>\n",
       "      <td>999999998</td>\n",
       "      <td>9998</td>\n",
       "    </tr>\n",
       "    <tr>\n",
       "      <th>3</th>\n",
       "      <td>0</td>\n",
       "      <td>0</td>\n",
       "      <td>1</td>\n",
       "      <td>1</td>\n",
       "      <td>0</td>\n",
       "      <td>0</td>\n",
       "      <td>0</td>\n",
       "      <td>0</td>\n",
       "      <td>0</td>\n",
       "      <td>0</td>\n",
       "      <td>...</td>\n",
       "      <td>98</td>\n",
       "      <td>998</td>\n",
       "      <td>999999998</td>\n",
       "      <td>999999996</td>\n",
       "      <td>9996</td>\n",
       "      <td>1</td>\n",
       "      <td>1140</td>\n",
       "      <td>98</td>\n",
       "      <td>999999998</td>\n",
       "      <td>9998</td>\n",
       "    </tr>\n",
       "    <tr>\n",
       "      <th>4</th>\n",
       "      <td>1</td>\n",
       "      <td>0</td>\n",
       "      <td>0</td>\n",
       "      <td>0</td>\n",
       "      <td>1</td>\n",
       "      <td>0</td>\n",
       "      <td>0</td>\n",
       "      <td>0</td>\n",
       "      <td>0</td>\n",
       "      <td>0</td>\n",
       "      <td>...</td>\n",
       "      <td>98</td>\n",
       "      <td>998</td>\n",
       "      <td>999999998</td>\n",
       "      <td>999999998</td>\n",
       "      <td>9998</td>\n",
       "      <td>98</td>\n",
       "      <td>999999998</td>\n",
       "      <td>98</td>\n",
       "      <td>999999998</td>\n",
       "      <td>9998</td>\n",
       "    </tr>\n",
       "  </tbody>\n",
       "</table>\n",
       "<p>5 rows × 567 columns</p>\n",
       "</div>"
      ],
      "text/plain": [
       "   VAR_0001_H  VAR_0001_Q  VAR_0001_R  VAR_0005_B  VAR_0005_C  VAR_0005_N  \\\n",
       "0           0           0           1           1           0           0   \n",
       "1           0           0           1           0           1           0   \n",
       "2           0           0           1           0           1           0   \n",
       "3           0           0           1           1           0           0   \n",
       "4           1           0           0           0           1           0   \n",
       "\n",
       "   VAR_0005_S  VAR_0237_AK  VAR_0237_AL  VAR_0237_AR    ...     VAR_1867  \\\n",
       "0           0            0            0            0    ...           98   \n",
       "1           0            0            0            0    ...            0   \n",
       "2           0            0            0            0    ...           98   \n",
       "3           0            0            0            0    ...           98   \n",
       "4           0            0            0            0    ...           98   \n",
       "\n",
       "   VAR_1868   VAR_1869   VAR_1912  VAR_1918  VAR_1921   VAR_1922  VAR_1926  \\\n",
       "0       998  999999998       6121        47        98  999999998        98   \n",
       "1         0  999999997  999999998      9998        98  999999998        98   \n",
       "2       998  999999998  999999998      9998        98  999999998        98   \n",
       "3       998  999999998  999999996      9996         1       1140        98   \n",
       "4       998  999999998  999999998      9998        98  999999998        98   \n",
       "\n",
       "    VAR_1929  VAR_1932  \n",
       "0  999999998      9998  \n",
       "1  999999998      9998  \n",
       "2  999999998      9998  \n",
       "3  999999998      9998  \n",
       "4  999999998      9998  \n",
       "\n",
       "[5 rows x 567 columns]"
      ]
     },
     "execution_count": 113,
     "metadata": {},
     "output_type": "execute_result"
    }
   ],
   "source": [
    "test = pd.read_csv('test2.csv') \n",
    "test.head()\n",
    "Xt=test\n",
    "#Ajuste de variables categóricas a Dummies\n",
    "X.dtypes\n",
    "obj_X = Xt.select_dtypes(include=['object']).copy()\n",
    "obj_X.head()\n",
    "obj_X\n",
    "#Los valores NaN se remplaza por la palabra vacio\n",
    "obj_X.fillna('Vacios', inplace=True)\n",
    "x3=pd.get_dummies(obj_X)\n",
    "x3.head()\n",
    "#Ajuste de las variables numéricas, los missing se convierten en cero\n",
    "X2 = Xt.select_dtypes(exclude=['object']).copy()\n",
    "X2.head()\n",
    "#Nuevo conjunto predictor  concatenando las bases anteriores\n",
    "Xt = pd.concat([x3, X2], axis=1)\n",
    "Xt.fillna(0, inplace=True)\n",
    "Xt.isnull().sum().sort_values(ascending=False)\n",
    "\n",
    "test = pd.concat([x3, X2], axis=1)\n",
    "test.head()"
   ]
  },
  {
   "cell_type": "markdown",
   "metadata": {},
   "source": [
    "Para asegurar que la base cuente con las mismas variables, se filtra la base con las variables del X_Train"
   ]
  },
  {
   "cell_type": "code",
   "execution_count": 136,
   "metadata": {},
   "outputs": [
    {
     "data": {
      "text/plain": [
       "Index(['VAR_0001_H', 'VAR_0001_Q', 'VAR_0001_R', 'VAR_0005_B', 'VAR_0005_C',\n",
       "       'VAR_0005_N', 'VAR_0005_S', 'VAR_0237_AK', 'VAR_0237_AL', 'VAR_0237_AR',\n",
       "       ...\n",
       "       'VAR_1867', 'VAR_1868', 'VAR_1869', 'VAR_1912', 'VAR_1918', 'VAR_1921',\n",
       "       'VAR_1922', 'VAR_1926', 'VAR_1929', 'VAR_1932'],\n",
       "      dtype='object', length=559)"
      ]
     },
     "execution_count": 136,
     "metadata": {},
     "output_type": "execute_result"
    }
   ],
   "source": [
    "#Vector con nombre de las variables \n",
    "feature_cols = X.columns[X.columns.str.startswith('C') == False]\n",
    "feature_cols\n"
   ]
  },
  {
   "cell_type": "code",
   "execution_count": 134,
   "metadata": {},
   "outputs": [],
   "source": [
    "test['VAR_0237_CT']=0"
   ]
  },
  {
   "cell_type": "code",
   "execution_count": 143,
   "metadata": {},
   "outputs": [],
   "source": [
    "test=test[feature_cols]"
   ]
  },
  {
   "cell_type": "markdown",
   "metadata": {},
   "source": [
    "Ahora se realiza la predicción con la base test obteniendo los siguientes resultados:"
   ]
  },
  {
   "cell_type": "code",
   "execution_count": 138,
   "metadata": {},
   "outputs": [],
   "source": [
    "# Vamos a usar el conjunto de prueba para obtener\n",
    "# predicciones a partir de test\n",
    "predicted = rfcla.predict(test)"
   ]
  },
  {
   "cell_type": "code",
   "execution_count": 139,
   "metadata": {},
   "outputs": [],
   "source": [
    "test['predicted']=predicted"
   ]
  },
  {
   "cell_type": "code",
   "execution_count": 140,
   "metadata": {},
   "outputs": [
    {
     "data": {
      "text/plain": [
       "0    0.990794\n",
       "1    0.009206\n",
       "Name: predicted, dtype: float64"
      ]
     },
     "execution_count": 140,
     "metadata": {},
     "output_type": "execute_result"
    }
   ],
   "source": [
    "#Revisión de casos positivos y negativos de la predicción\n",
    "test['predicted'].value_counts(normalize=True)"
   ]
  },
  {
   "cell_type": "code",
   "execution_count": 141,
   "metadata": {},
   "outputs": [
    {
     "data": {
      "text/plain": [
       "0    143895\n",
       "1      1337\n",
       "Name: predicted, dtype: int64"
      ]
     },
     "execution_count": 141,
     "metadata": {},
     "output_type": "execute_result"
    }
   ],
   "source": [
    "#Revisión de casos positivos y negativos de la predicción\n",
    "test['predicted'].value_counts()"
   ]
  },
  {
   "cell_type": "markdown",
   "metadata": {},
   "source": [
    "De acuerdo al modelo estimado y la información anteriormente descrita se observa que de la base test el 1% de los clientes aceptarían la oferta"
   ]
  },
  {
   "cell_type": "code",
   "execution_count": 155,
   "metadata": {},
   "outputs": [],
   "source": [
    "# Vamos a usar el conjunto de prueba para obtener\n",
    "# predicciones a partir de test\n",
    "predpro = rfcla.predict_proba(test)"
   ]
  },
  {
   "cell_type": "markdown",
   "metadata": {},
   "source": [
    "Los siguientes códigos generan el resultado que se subirá a Kaggle como test2  "
   ]
  },
  {
   "cell_type": "code",
   "execution_count": 169,
   "metadata": {},
   "outputs": [],
   "source": [
    "test['target']=predpro[:,1]"
   ]
  },
  {
   "cell_type": "code",
   "execution_count": 172,
   "metadata": {},
   "outputs": [],
   "source": [
    "test['target'].to_csv('test.csv',sep=',')"
   ]
  },
  {
   "cell_type": "markdown",
   "metadata": {},
   "source": [
    "Los resultados obtenidos son los siguientes \n"
   ]
  },
  {
   "cell_type": "code",
   "execution_count": 184,
   "metadata": {},
   "outputs": [
    {
     "data": {
      "image/jpeg": "[encoded data removed]",
      "text/plain": [
       "<IPython.core.display.Image object>"
      ]
     },
     "execution_count": 184,
     "metadata": {},
     "output_type": "execute_result"
    }
   ],
   "source": [
    "\n",
    "from IPython.display import Image\n",
    "Image(\"result 1.JPG\")"
   ]
  },
  {
   "cell_type": "code",
   "execution_count": 185,
   "metadata": {},
   "outputs": [
    {
     "data": {
      "image/jpeg": "[encoded data removed]",
      "text/plain": [
       "<IPython.core.display.Image object>"
      ]
     },
     "execution_count": 185,
     "metadata": {},
     "output_type": "execute_result"
    }
   ],
   "source": [
    "\n",
    "from IPython.display import Image\n",
    "Image(\"result 2.JPG\")"
   ]
  },
  {
   "cell_type": "code",
   "execution_count": null,
   "metadata": {},
   "outputs": [],
   "source": []
  }
 ],
 "metadata": {
  "kernelspec": {
   "display_name": "Python 3",
   "language": "python",
   "name": "python3"
  },
  "language_info": {
   "codemirror_mode": {
    "name": "ipython",
    "version": 3
   },
   "file_extension": ".py",
   "mimetype": "text/x-python",
   "name": "python",
   "nbconvert_exporter": "python",
   "pygments_lexer": "ipython3",
   "version": "3.6.5"
  }
 },
 "nbformat": 4,
 "nbformat_minor": 2
}
