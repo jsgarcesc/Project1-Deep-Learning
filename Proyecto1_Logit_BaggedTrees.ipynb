{
 "cells": [
  {
   "cell_type": "markdown",
   "metadata": {},
   "source": [
    "# PROYECTO 1: DEEP LEARNING.\n",
    "\n",
    "\n",
    "## MODELOS LOGIT Y BAGGED TREES\n",
    "\n",
    "**Integrante 1:** Ángela Patricia Ordoñez Castro...................................................**Código:** 201628709    \n",
    "**Integrante 2:** Ricardo Medina Aponte................................................................**Código:** 200520707  \n",
    "**Integrante 3:** Juan Sebastián Garcés Carranza.................................................**Código:** 201628949    \n",
    "**Integrante 4:** Andrea Carolina Parra López........................................................**Código:** 201727740 "
   ]
  },
  {
   "cell_type": "code",
   "execution_count": 1,
   "metadata": {
    "scrolled": true
   },
   "outputs": [],
   "source": [
    "# Importa librerias\n",
    "import pandas as pd\n",
    "import numpy as np"
   ]
  },
  {
   "cell_type": "markdown",
   "metadata": {},
   "source": [
    "Una vez realizada la limpieza de datos de las bases train y test, se imortan los datos con las 434 variables que se mantuveron dentro de las mismas:"
   ]
  },
  {
   "cell_type": "code",
   "execution_count": 2,
   "metadata": {
    "scrolled": true
   },
   "outputs": [
    {
     "data": {
      "text/html": [
       "<div>\n",
       "<style scoped>\n",
       "    .dataframe tbody tr th:only-of-type {\n",
       "        vertical-align: middle;\n",
       "    }\n",
       "\n",
       "    .dataframe tbody tr th {\n",
       "        vertical-align: top;\n",
       "    }\n",
       "\n",
       "    .dataframe thead th {\n",
       "        text-align: right;\n",
       "    }\n",
       "</style>\n",
       "<table border=\"1\" class=\"dataframe\">\n",
       "  <thead>\n",
       "    <tr style=\"text-align: right;\">\n",
       "      <th></th>\n",
       "      <th>Unnamed: 0</th>\n",
       "      <th>ID</th>\n",
       "      <th>VAR_0001</th>\n",
       "      <th>VAR_0002</th>\n",
       "      <th>VAR_0003</th>\n",
       "      <th>VAR_0004</th>\n",
       "      <th>VAR_0005</th>\n",
       "      <th>VAR_0006</th>\n",
       "      <th>VAR_0007</th>\n",
       "      <th>VAR_0015</th>\n",
       "      <th>...</th>\n",
       "      <th>VAR_1869</th>\n",
       "      <th>VAR_1912</th>\n",
       "      <th>VAR_1918</th>\n",
       "      <th>VAR_1921</th>\n",
       "      <th>VAR_1922</th>\n",
       "      <th>VAR_1926</th>\n",
       "      <th>VAR_1929</th>\n",
       "      <th>VAR_1932</th>\n",
       "      <th>VAR_1934</th>\n",
       "      <th>target</th>\n",
       "    </tr>\n",
       "  </thead>\n",
       "  <tbody>\n",
       "    <tr>\n",
       "      <th>0</th>\n",
       "      <td>0</td>\n",
       "      <td>2</td>\n",
       "      <td>H</td>\n",
       "      <td>224</td>\n",
       "      <td>0</td>\n",
       "      <td>4300</td>\n",
       "      <td>C</td>\n",
       "      <td>0.0</td>\n",
       "      <td>0.0</td>\n",
       "      <td>0.0</td>\n",
       "      <td>...</td>\n",
       "      <td>999999998</td>\n",
       "      <td>999999998</td>\n",
       "      <td>9998</td>\n",
       "      <td>98</td>\n",
       "      <td>999999998</td>\n",
       "      <td>98</td>\n",
       "      <td>999999998</td>\n",
       "      <td>9998</td>\n",
       "      <td>IAPS</td>\n",
       "      <td>0</td>\n",
       "    </tr>\n",
       "    <tr>\n",
       "      <th>1</th>\n",
       "      <td>1</td>\n",
       "      <td>4</td>\n",
       "      <td>H</td>\n",
       "      <td>7</td>\n",
       "      <td>53</td>\n",
       "      <td>4448</td>\n",
       "      <td>B</td>\n",
       "      <td>1.0</td>\n",
       "      <td>0.0</td>\n",
       "      <td>1.0</td>\n",
       "      <td>...</td>\n",
       "      <td>999999998</td>\n",
       "      <td>6546</td>\n",
       "      <td>9996</td>\n",
       "      <td>98</td>\n",
       "      <td>999999998</td>\n",
       "      <td>98</td>\n",
       "      <td>999999998</td>\n",
       "      <td>9998</td>\n",
       "      <td>IAPS</td>\n",
       "      <td>0</td>\n",
       "    </tr>\n",
       "    <tr>\n",
       "      <th>2</th>\n",
       "      <td>2</td>\n",
       "      <td>5</td>\n",
       "      <td>H</td>\n",
       "      <td>116</td>\n",
       "      <td>3</td>\n",
       "      <td>3464</td>\n",
       "      <td>C</td>\n",
       "      <td>0.0</td>\n",
       "      <td>0.0</td>\n",
       "      <td>0.0</td>\n",
       "      <td>...</td>\n",
       "      <td>999999998</td>\n",
       "      <td>999999997</td>\n",
       "      <td>9996</td>\n",
       "      <td>98</td>\n",
       "      <td>999999998</td>\n",
       "      <td>98</td>\n",
       "      <td>999999998</td>\n",
       "      <td>9998</td>\n",
       "      <td>IAPS</td>\n",
       "      <td>0</td>\n",
       "    </tr>\n",
       "    <tr>\n",
       "      <th>3</th>\n",
       "      <td>3</td>\n",
       "      <td>7</td>\n",
       "      <td>H</td>\n",
       "      <td>240</td>\n",
       "      <td>300</td>\n",
       "      <td>3200</td>\n",
       "      <td>C</td>\n",
       "      <td>0.0</td>\n",
       "      <td>0.0</td>\n",
       "      <td>0.0</td>\n",
       "      <td>...</td>\n",
       "      <td>999999998</td>\n",
       "      <td>999999998</td>\n",
       "      <td>9998</td>\n",
       "      <td>98</td>\n",
       "      <td>999999998</td>\n",
       "      <td>98</td>\n",
       "      <td>999999998</td>\n",
       "      <td>9998</td>\n",
       "      <td>RCC</td>\n",
       "      <td>0</td>\n",
       "    </tr>\n",
       "    <tr>\n",
       "      <th>4</th>\n",
       "      <td>4</td>\n",
       "      <td>8</td>\n",
       "      <td>R</td>\n",
       "      <td>72</td>\n",
       "      <td>261</td>\n",
       "      <td>2000</td>\n",
       "      <td>N</td>\n",
       "      <td>0.0</td>\n",
       "      <td>0.0</td>\n",
       "      <td>0.0</td>\n",
       "      <td>...</td>\n",
       "      <td>999999998</td>\n",
       "      <td>999999998</td>\n",
       "      <td>9998</td>\n",
       "      <td>98</td>\n",
       "      <td>999999998</td>\n",
       "      <td>98</td>\n",
       "      <td>999999998</td>\n",
       "      <td>9998</td>\n",
       "      <td>BRANCH</td>\n",
       "      <td>1</td>\n",
       "    </tr>\n",
       "  </tbody>\n",
       "</table>\n",
       "<p>5 rows × 435 columns</p>\n",
       "</div>"
      ],
      "text/plain": [
       "   Unnamed: 0  ID VAR_0001  VAR_0002  VAR_0003  VAR_0004 VAR_0005  VAR_0006  \\\n",
       "0           0   2        H       224         0      4300        C       0.0   \n",
       "1           1   4        H         7        53      4448        B       1.0   \n",
       "2           2   5        H       116         3      3464        C       0.0   \n",
       "3           3   7        H       240       300      3200        C       0.0   \n",
       "4           4   8        R        72       261      2000        N       0.0   \n",
       "\n",
       "   VAR_0007  VAR_0015   ...     VAR_1869   VAR_1912  VAR_1918  VAR_1921  \\\n",
       "0       0.0       0.0   ...    999999998  999999998      9998        98   \n",
       "1       0.0       1.0   ...    999999998       6546      9996        98   \n",
       "2       0.0       0.0   ...    999999998  999999997      9996        98   \n",
       "3       0.0       0.0   ...    999999998  999999998      9998        98   \n",
       "4       0.0       0.0   ...    999999998  999999998      9998        98   \n",
       "\n",
       "    VAR_1922  VAR_1926   VAR_1929  VAR_1932  VAR_1934  target  \n",
       "0  999999998        98  999999998      9998      IAPS       0  \n",
       "1  999999998        98  999999998      9998      IAPS       0  \n",
       "2  999999998        98  999999998      9998      IAPS       0  \n",
       "3  999999998        98  999999998      9998       RCC       0  \n",
       "4  999999998        98  999999998      9998    BRANCH       1  \n",
       "\n",
       "[5 rows x 435 columns]"
      ]
     },
     "execution_count": 2,
     "metadata": {},
     "output_type": "execute_result"
    }
   ],
   "source": [
    "# Importar base train con las variables seleccio\n",
    "# Train\n",
    "train = pd.read_csv('train4.csv') \n",
    "train.head()"
   ]
  },
  {
   "cell_type": "markdown",
   "metadata": {},
   "source": [
    "Verificamos la dimension de la base train:"
   ]
  },
  {
   "cell_type": "code",
   "execution_count": 3,
   "metadata": {
    "scrolled": false
   },
   "outputs": [
    {
     "data": {
      "text/plain": [
       "(144277, 435)"
      ]
     },
     "execution_count": 3,
     "metadata": {},
     "output_type": "execute_result"
    }
   ],
   "source": [
    "train.shape"
   ]
  },
  {
   "cell_type": "markdown",
   "metadata": {},
   "source": [
    "Se identifican las variables Unnamed:0 y ID como variables de identificación; estas variables no se tendrán en cuenta para el desarrollo de los modelos propuestos.\n",
    "A continuación denominamos los conjuntos train y test que se usaran para entrenar y validar los modelos propuestos:"
   ]
  },
  {
   "cell_type": "code",
   "execution_count": 4,
   "metadata": {
    "scrolled": true
   },
   "outputs": [
    {
     "data": {
      "text/plain": [
       "(144277, 432)"
      ]
     },
     "execution_count": 4,
     "metadata": {},
     "output_type": "execute_result"
    }
   ],
   "source": [
    "y_train = train['target']\n",
    "X_train = train.drop(['ID','Unnamed: 0','target'], axis=1)\n",
    "X_train.shape"
   ]
  },
  {
   "cell_type": "code",
   "execution_count": 5,
   "metadata": {
    "scrolled": false
   },
   "outputs": [
    {
     "data": {
      "text/html": [
       "<div>\n",
       "<style scoped>\n",
       "    .dataframe tbody tr th:only-of-type {\n",
       "        vertical-align: middle;\n",
       "    }\n",
       "\n",
       "    .dataframe tbody tr th {\n",
       "        vertical-align: top;\n",
       "    }\n",
       "\n",
       "    .dataframe thead th {\n",
       "        text-align: right;\n",
       "    }\n",
       "</style>\n",
       "<table border=\"1\" class=\"dataframe\">\n",
       "  <thead>\n",
       "    <tr style=\"text-align: right;\">\n",
       "      <th></th>\n",
       "      <th>Unnamed: 0</th>\n",
       "      <th>ID</th>\n",
       "      <th>VAR_0001</th>\n",
       "      <th>VAR_0002</th>\n",
       "      <th>VAR_0003</th>\n",
       "      <th>VAR_0004</th>\n",
       "      <th>VAR_0005</th>\n",
       "      <th>VAR_0006</th>\n",
       "      <th>VAR_0007</th>\n",
       "      <th>VAR_0015</th>\n",
       "      <th>...</th>\n",
       "      <th>VAR_1868</th>\n",
       "      <th>VAR_1869</th>\n",
       "      <th>VAR_1912</th>\n",
       "      <th>VAR_1918</th>\n",
       "      <th>VAR_1921</th>\n",
       "      <th>VAR_1922</th>\n",
       "      <th>VAR_1926</th>\n",
       "      <th>VAR_1929</th>\n",
       "      <th>VAR_1932</th>\n",
       "      <th>VAR_1934</th>\n",
       "    </tr>\n",
       "  </thead>\n",
       "  <tbody>\n",
       "    <tr>\n",
       "      <th>0</th>\n",
       "      <td>0</td>\n",
       "      <td>1</td>\n",
       "      <td>R</td>\n",
       "      <td>360</td>\n",
       "      <td>25</td>\n",
       "      <td>2251</td>\n",
       "      <td>B</td>\n",
       "      <td>2.0</td>\n",
       "      <td>2.0</td>\n",
       "      <td>1.0</td>\n",
       "      <td>...</td>\n",
       "      <td>998</td>\n",
       "      <td>999999998</td>\n",
       "      <td>6121</td>\n",
       "      <td>47</td>\n",
       "      <td>98</td>\n",
       "      <td>999999998</td>\n",
       "      <td>98</td>\n",
       "      <td>999999998</td>\n",
       "      <td>9998</td>\n",
       "      <td>IAPS</td>\n",
       "    </tr>\n",
       "    <tr>\n",
       "      <th>1</th>\n",
       "      <td>1</td>\n",
       "      <td>3</td>\n",
       "      <td>R</td>\n",
       "      <td>74</td>\n",
       "      <td>192</td>\n",
       "      <td>3274</td>\n",
       "      <td>C</td>\n",
       "      <td>2.0</td>\n",
       "      <td>3.0</td>\n",
       "      <td>2.0</td>\n",
       "      <td>...</td>\n",
       "      <td>0</td>\n",
       "      <td>999999997</td>\n",
       "      <td>999999998</td>\n",
       "      <td>9998</td>\n",
       "      <td>98</td>\n",
       "      <td>999999998</td>\n",
       "      <td>98</td>\n",
       "      <td>999999998</td>\n",
       "      <td>9998</td>\n",
       "      <td>IAPS</td>\n",
       "    </tr>\n",
       "    <tr>\n",
       "      <th>2</th>\n",
       "      <td>2</td>\n",
       "      <td>6</td>\n",
       "      <td>R</td>\n",
       "      <td>21</td>\n",
       "      <td>36</td>\n",
       "      <td>3500</td>\n",
       "      <td>C</td>\n",
       "      <td>1.0</td>\n",
       "      <td>1.0</td>\n",
       "      <td>1.0</td>\n",
       "      <td>...</td>\n",
       "      <td>998</td>\n",
       "      <td>999999998</td>\n",
       "      <td>999999998</td>\n",
       "      <td>9998</td>\n",
       "      <td>98</td>\n",
       "      <td>999999998</td>\n",
       "      <td>98</td>\n",
       "      <td>999999998</td>\n",
       "      <td>9998</td>\n",
       "      <td>IAPS</td>\n",
       "    </tr>\n",
       "    <tr>\n",
       "      <th>3</th>\n",
       "      <td>3</td>\n",
       "      <td>9</td>\n",
       "      <td>R</td>\n",
       "      <td>8</td>\n",
       "      <td>2</td>\n",
       "      <td>1500</td>\n",
       "      <td>B</td>\n",
       "      <td>0.0</td>\n",
       "      <td>0.0</td>\n",
       "      <td>0.0</td>\n",
       "      <td>...</td>\n",
       "      <td>998</td>\n",
       "      <td>999999998</td>\n",
       "      <td>999999996</td>\n",
       "      <td>9996</td>\n",
       "      <td>1</td>\n",
       "      <td>1140</td>\n",
       "      <td>98</td>\n",
       "      <td>999999998</td>\n",
       "      <td>9998</td>\n",
       "      <td>IAPS</td>\n",
       "    </tr>\n",
       "    <tr>\n",
       "      <th>4</th>\n",
       "      <td>4</td>\n",
       "      <td>10</td>\n",
       "      <td>H</td>\n",
       "      <td>91</td>\n",
       "      <td>39</td>\n",
       "      <td>84500</td>\n",
       "      <td>C</td>\n",
       "      <td>8.0</td>\n",
       "      <td>3.0</td>\n",
       "      <td>1.0</td>\n",
       "      <td>...</td>\n",
       "      <td>998</td>\n",
       "      <td>999999998</td>\n",
       "      <td>999999998</td>\n",
       "      <td>9998</td>\n",
       "      <td>98</td>\n",
       "      <td>999999998</td>\n",
       "      <td>98</td>\n",
       "      <td>999999998</td>\n",
       "      <td>9998</td>\n",
       "      <td>IAPS</td>\n",
       "    </tr>\n",
       "  </tbody>\n",
       "</table>\n",
       "<p>5 rows × 434 columns</p>\n",
       "</div>"
      ],
      "text/plain": [
       "   Unnamed: 0  ID VAR_0001  VAR_0002  VAR_0003  VAR_0004 VAR_0005  VAR_0006  \\\n",
       "0           0   1        R       360        25      2251        B       2.0   \n",
       "1           1   3        R        74       192      3274        C       2.0   \n",
       "2           2   6        R        21        36      3500        C       1.0   \n",
       "3           3   9        R         8         2      1500        B       0.0   \n",
       "4           4  10        H        91        39     84500        C       8.0   \n",
       "\n",
       "   VAR_0007  VAR_0015    ...     VAR_1868   VAR_1869   VAR_1912  VAR_1918  \\\n",
       "0       2.0       1.0    ...          998  999999998       6121        47   \n",
       "1       3.0       2.0    ...            0  999999997  999999998      9998   \n",
       "2       1.0       1.0    ...          998  999999998  999999998      9998   \n",
       "3       0.0       0.0    ...          998  999999998  999999996      9996   \n",
       "4       3.0       1.0    ...          998  999999998  999999998      9998   \n",
       "\n",
       "   VAR_1921   VAR_1922  VAR_1926   VAR_1929  VAR_1932  VAR_1934  \n",
       "0        98  999999998        98  999999998      9998      IAPS  \n",
       "1        98  999999998        98  999999998      9998      IAPS  \n",
       "2        98  999999998        98  999999998      9998      IAPS  \n",
       "3         1       1140        98  999999998      9998      IAPS  \n",
       "4        98  999999998        98  999999998      9998      IAPS  \n",
       "\n",
       "[5 rows x 434 columns]"
      ]
     },
     "execution_count": 5,
     "metadata": {},
     "output_type": "execute_result"
    }
   ],
   "source": [
    "X_test= pd.read_csv('test2.csv') \n",
    "X_test.head()"
   ]
  },
  {
   "cell_type": "code",
   "execution_count": 6,
   "metadata": {
    "scrolled": true
   },
   "outputs": [],
   "source": [
    "X_test=X_test.drop(['ID', 'Unnamed: 0'], axis=1)"
   ]
  },
  {
   "cell_type": "markdown",
   "metadata": {},
   "source": [
    "Se identifican variables categoricas en la base train y test, las cuales se codifican prevamente al entrenamiento y validación de los modelos:"
   ]
  },
  {
   "cell_type": "code",
   "execution_count": 7,
   "metadata": {},
   "outputs": [],
   "source": [
    "#codifica las variables categoricas\n",
    "from sklearn import preprocessing\n",
    "le = preprocessing.LabelEncoder()\n",
    "for column_name in X_train.columns:\n",
    "        if X_train[column_name].dtype == object:\n",
    "            X_train[column_name] = le.fit_transform(X_train[column_name])\n",
    "        else:\n",
    "            pass"
   ]
  },
  {
   "cell_type": "code",
   "execution_count": 8,
   "metadata": {},
   "outputs": [],
   "source": [
    "from sklearn import preprocessing\n",
    "le = preprocessing.LabelEncoder()\n",
    "for column_name in X_test.columns:\n",
    "        if X_test[column_name].dtype == object:\n",
    "            X_test[column_name] = le.fit_transform(X_test[column_name])\n",
    "        else:\n",
    "            pass"
   ]
  },
  {
   "cell_type": "markdown",
   "metadata": {},
   "source": [
    "# Logistic Regression\n",
    "\n",
    "Iniciamos con una regresión logistica que incluye todas las variables del conjunto de datos X_train_"
   ]
  },
  {
   "cell_type": "code",
   "execution_count": 9,
   "metadata": {
    "scrolled": true
   },
   "outputs": [],
   "source": [
    "# train/test split\n",
    "from sklearn.linear_model import LogisticRegression\n",
    "#from sklearn.model_selection import train_test_split\n",
    "from sklearn import metrics\n",
    "#from sklearn.cross_validation import train_test_split\n",
    "#X_train, X_test, y_train, y_test = train_test_split(X, y, random_state=1)\n",
    "\n",
    "# train a logistic regression model\n",
    "#from sklearn.linear_model import LogisticRegression\n",
    "logreg = LogisticRegression(C=1e9)\n",
    "logreg.fit(X_train, y_train)\n",
    "\n",
    "# make predictions for testing set\n",
    "y_pred_class = logreg.predict(X_test)\n",
    "#print(y_pred_class)\n",
    "#pd.value_counts(y_pred_class)"
   ]
  },
  {
   "cell_type": "markdown",
   "metadata": {},
   "source": [
    "Calibramos el modelo, utilizando el thershold media:"
   ]
  },
  {
   "cell_type": "code",
   "execution_count": 10,
   "metadata": {
    "scrolled": true
   },
   "outputs": [
    {
     "data": {
      "text/plain": [
       "array([[-1.00000000e+00,  4.94630000e+04,  9.99999997e+08, ...,\n",
       "         9.99999998e+08,  9.99999998e+08,  9.99999998e+08],\n",
       "       [-1.00000000e+00,  3.03472000e+05,  6.00000000e+00, ...,\n",
       "         6.54600000e+03,  9.99999998e+08,  9.99999998e+08],\n",
       "       [-1.00000000e+00,  9.49900000e+04,  9.99999996e+08, ...,\n",
       "         9.99999997e+08,  9.99999998e+08,  9.99999998e+08],\n",
       "       ...,\n",
       "       [-1.00000000e+00,  2.57680000e+04,  0.00000000e+00, ...,\n",
       "         3.04250000e+04,  9.99999998e+08,  9.99999998e+08],\n",
       "       [-1.00000000e+00,  4.74400000e+03,  9.99999998e+08, ...,\n",
       "         9.99999996e+08,  9.99999998e+08,  9.99999998e+08],\n",
       "       [-1.00000000e+00,  6.34544000e+05,  0.00000000e+00, ...,\n",
       "         9.99999998e+08,  9.99999998e+08,  9.99999998e+08]])"
      ]
     },
     "execution_count": 10,
     "metadata": {},
     "output_type": "execute_result"
    }
   ],
   "source": [
    "from sklearn.feature_selection import SelectFromModel\n",
    "model=SelectFromModel(logreg,threshold='mean', prefit=True)\n",
    "Select_X_train=model.transform(X_train)\n",
    "Select_X_train"
   ]
  },
  {
   "cell_type": "code",
   "execution_count": 11,
   "metadata": {
    "scrolled": true
   },
   "outputs": [],
   "source": [
    "Select_X_test=model.transform(X_test)"
   ]
  },
  {
   "cell_type": "markdown",
   "metadata": {},
   "source": [
    "Con la calibración del modelo obtenemos 29 variables predictoras:"
   ]
  },
  {
   "cell_type": "code",
   "execution_count": 12,
   "metadata": {},
   "outputs": [
    {
     "data": {
      "text/plain": [
       "(144277, 29)"
      ]
     },
     "execution_count": 12,
     "metadata": {},
     "output_type": "execute_result"
    }
   ],
   "source": [
    "Select_X_train.shape"
   ]
  },
  {
   "cell_type": "markdown",
   "metadata": {},
   "source": [
    "Con las variables predictoras, corremos nuevamente un modelo logit:"
   ]
  },
  {
   "cell_type": "code",
   "execution_count": 13,
   "metadata": {
    "scrolled": true
   },
   "outputs": [
    {
     "name": "stdout",
     "output_type": "stream",
     "text": [
      "Optimization terminated successfully.\n",
      "         Current function value: 0.529848\n",
      "         Iterations 1\n",
      "                           Logit Regression Results                           \n",
      "==============================================================================\n",
      "Dep. Variable:                 target   No. Observations:               144277\n",
      "Model:                          Logit   Df Residuals:                   144248\n",
      "Method:                           MLE   Df Model:                           28\n",
      "Date:                Sun, 24 Jun 2018   Pseudo R-squ.:                 0.02299\n",
      "Time:                        23:10:35   Log-Likelihood:                -76445.\n",
      "converged:                       True   LL-Null:                       -78244.\n",
      "                                        LLR p-value:                     0.000\n",
      "==============================================================================\n",
      "                 coef    std err          z      P>|z|      [0.025      0.975]\n",
      "------------------------------------------------------------------------------\n",
      "x1          5.864e-09      5e-09      1.173      0.241   -3.93e-09    1.57e-08\n",
      "x2          5.259e-10   6.33e-11      8.313      0.000    4.02e-10     6.5e-10\n",
      "x3         -1.101e-10   1.93e-11     -5.703      0.000   -1.48e-10   -7.23e-11\n",
      "x4          1.872e-10    5.2e-11      3.600      0.000    8.53e-11    2.89e-10\n",
      "x5         -1.274e-10   6.65e-11     -1.915      0.055   -2.58e-10    2.98e-12\n",
      "x6          1.336e-10   1.64e-11      8.146      0.000    1.01e-10    1.66e-10\n",
      "x7         -8.286e-11    3.9e-11     -2.124      0.034   -1.59e-10   -6.41e-12\n",
      "x8          2.612e-10   2.32e-11     11.241      0.000    2.16e-10    3.07e-10\n",
      "x9         -9.888e-11   4.54e-11     -2.177      0.029   -1.88e-10   -9.86e-12\n",
      "x10        -8.228e-11   2.09e-11     -3.940      0.000   -1.23e-10   -4.14e-11\n",
      "x11         3.046e-10   2.03e-11     15.010      0.000    2.65e-10    3.44e-10\n",
      "x12        -1.111e-10   3.08e-11     -3.605      0.000   -1.72e-10   -5.07e-11\n",
      "x13         5.672e-11   3.53e-11      1.604      0.109   -1.26e-11    1.26e-10\n",
      "x14        -1.034e-10   3.97e-11     -2.603      0.009   -1.81e-10   -2.55e-11\n",
      "x15        -1.657e-10   4.53e-11     -3.661      0.000   -2.54e-10    -7.7e-11\n",
      "x16         2.551e-10   1.88e-11     13.564      0.000    2.18e-10    2.92e-10\n",
      "x17        -8.296e-10   1.39e-10     -5.951      0.000    -1.1e-09   -5.56e-10\n",
      "x18        -2.037e-11   2.22e-11     -0.919      0.358   -6.38e-11    2.31e-11\n",
      "x19        -1.008e-10   1.89e-11     -5.345      0.000   -1.38e-10   -6.39e-11\n",
      "x20         4.396e-10   2.61e-11     16.872      0.000    3.89e-10    4.91e-10\n",
      "x21        -1.604e-10   4.47e-11     -3.592      0.000   -2.48e-10   -7.29e-11\n",
      "x22         3.079e-11   1.57e-11      1.964      0.050    6.46e-14    6.15e-11\n",
      "x23        -6.619e-11   2.05e-11     -3.231      0.001   -1.06e-10    -2.6e-11\n",
      "x24         1.217e-10   1.81e-11      6.731      0.000    8.63e-11    1.57e-10\n",
      "x25         1.126e-10   2.05e-11      5.494      0.000    7.24e-11    1.53e-10\n",
      "x26         -1.71e-10   3.03e-11     -5.643      0.000    -2.3e-10   -1.12e-10\n",
      "x27        -1.417e-10   1.79e-11     -7.909      0.000   -1.77e-10   -1.07e-10\n",
      "x28        -5.541e-11   2.05e-11     -2.705      0.007   -9.56e-11   -1.53e-11\n",
      "x29        -5.731e-10      5e-11    -11.471      0.000   -6.71e-10   -4.75e-10\n",
      "==============================================================================\n"
     ]
    }
   ],
   "source": [
    "import statsmodels.api as sm\n",
    "logit_model=sm.Logit(y_train, Select_X_train)\n",
    "result=logit_model.fit()\n",
    "print(result.summary())"
   ]
  },
  {
   "cell_type": "markdown",
   "metadata": {},
   "source": [
    "De las 29 variables seleccionadas, solo 5 no son significativas; para evaluar la presición del modelo, calculamos el f1_score así:"
   ]
  },
  {
   "cell_type": "code",
   "execution_count": 14,
   "metadata": {
    "scrolled": false
   },
   "outputs": [],
   "source": [
    "y_pred=logit_model.predict(Select_X_test[:29,:])"
   ]
  },
  {
   "cell_type": "markdown",
   "metadata": {},
   "source": [
    "# Bagged Decision trees"
   ]
  },
  {
   "cell_type": "code",
   "execution_count": 16,
   "metadata": {
    "scrolled": true
   },
   "outputs": [
    {
     "name": "stdout",
     "output_type": "stream",
     "text": [
      "0.7603083064631632\n"
     ]
    }
   ],
   "source": [
    "import pandas\n",
    "from sklearn import model_selection\n",
    "from sklearn.ensemble import BaggingClassifier\n",
    "from sklearn.tree import DecisionTreeClassifier\n",
    "kfold = model_selection.KFold(n_splits=10, random_state=1)\n",
    "cart = DecisionTreeClassifier()\n",
    "num_trees = 10\n",
    "model= BaggingClassifier(base_estimator=cart, n_estimators=num_trees, random_state=1)\n",
    "results = model_selection.cross_val_score(model, Select_X_train, y_train, cv=kfold)\n",
    "print(results.mean())"
   ]
  },
  {
   "cell_type": "code",
   "execution_count": 17,
   "metadata": {},
   "outputs": [
    {
     "data": {
      "text/plain": [
       "array([0.76656501, 0.75665373, 0.75540615, 0.76205988, 0.7542972 ,\n",
       "       0.75942612, 0.76621846, 0.75656755, 0.7616275 , 0.76426145])"
      ]
     },
     "execution_count": 17,
     "metadata": {},
     "output_type": "execute_result"
    }
   ],
   "source": [
    "results"
   ]
  },
  {
   "cell_type": "code",
   "execution_count": 18,
   "metadata": {},
   "outputs": [],
   "source": [
    "model2= BaggingClassifier(base_estimator=cart, n_estimators=8, random_state=1)\n",
    "model_bagged=model2.fit(Select_X_train, y_train)"
   ]
  },
  {
   "cell_type": "code",
   "execution_count": 19,
   "metadata": {},
   "outputs": [],
   "source": [
    "y_pred=model_bagged.predict_proba(Select_X_test)"
   ]
  },
  {
   "cell_type": "code",
   "execution_count": 20,
   "metadata": {},
   "outputs": [],
   "source": [
    "predBT=pd.DataFrame(y_pred)"
   ]
  },
  {
   "cell_type": "code",
   "execution_count": 21,
   "metadata": {},
   "outputs": [
    {
     "data": {
      "text/plain": [
       "array([0.74884742, 0.25115258])"
      ]
     },
     "execution_count": 21,
     "metadata": {},
     "output_type": "execute_result"
    }
   ],
   "source": [
    "sum(y_pred)/len(y_pred)"
   ]
  },
  {
   "cell_type": "code",
   "execution_count": 22,
   "metadata": {},
   "outputs": [],
   "source": [
    "predBT.to_csv('predBT.csv', sep=',')"
   ]
  },
  {
   "cell_type": "code",
   "execution_count": 23,
   "metadata": {},
   "outputs": [
    {
     "data": {
      "image/png": "[encoded data removed]",
      "text/plain": [
       "<IPython.core.display.Image object>"
      ]
     },
     "execution_count": 23,
     "metadata": {},
     "output_type": "execute_result"
    }
   ],
   "source": [
    "from IPython.display import Image\n",
    "Image(\"BT.png\")"
   ]
  },
  {
   "cell_type": "markdown",
   "metadata": {},
   "source": [
    "El valor score que se obtuvo en esta predicción es de aproximadamente 0.61, es decir que el modelo es bueno; sin embargo \n",
    "podría mejorarse."
   ]
  }
 ],
 "metadata": {
  "kernelspec": {
   "display_name": "Python 3",
   "language": "python",
   "name": "python3"
  }
 },
 "nbformat": 4,
 "nbformat_minor": 2
}
